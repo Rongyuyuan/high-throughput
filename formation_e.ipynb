{
 "cells": [
  {
   "cell_type": "markdown",
   "id": "4376aaf5",
   "metadata": {},
   "source": [
    "## Get dataset from matminer datasets"
   ]
  },
  {
   "cell_type": "code",
   "execution_count": 1,
   "id": "9e90353d",
   "metadata": {},
   "outputs": [],
   "source": [
    "#Import modules\n",
    "from matminer.datasets import get_available_datasets\n",
    "from matminer.featurizers.composition.element import ElementFraction\n",
    "from matminer.datasets import get_all_dataset_info\n",
    "from matminer.datasets.dataset_retrieval import load_dataset"
   ]
  },
  {
   "cell_type": "code",
   "execution_count": 2,
   "id": "8257c7c3",
   "metadata": {},
   "outputs": [
    {
     "name": "stdout",
     "output_type": "stream",
     "text": [
      "boltztrap_mp: Effective mass and thermoelectric properties of 8924 compounds in The  Materials Project database that are calculated by the BoltzTraP software package run on the GGA-PBE or GGA+U density functional theory calculation results. The properties are reported at the temperature of 300 Kelvin and the carrier concentration of 1e18 1/cm3.\n",
      "\n",
      "brgoch_superhard_training: 2574 materials used for training regressors that predict shear and bulk modulus.\n",
      "\n",
      "castelli_perovskites: 18,928 perovskites generated with ABX combinatorics, calculating gllbsc band gap and pbe structure, and also reporting absolute band edge positions and heat of formation.\n",
      "\n",
      "citrine_thermal_conductivity: Thermal conductivity of 872 compounds measured experimentally and retrieved from Citrine database from various references. The reported values are measured at various temperatures of which 295 are at room temperature.\n",
      "\n",
      "dielectric_constant: 1,056 structures with dielectric properties, calculated with DFPT-PBE.\n",
      "\n",
      "double_perovskites_gap: Band gap of 1306 double perovskites (a_1-b_1-a_2-b_2-O6) calculated using ﻿Gritsenko, van Leeuwen, van Lenthe and Baerends potential (gllbsc) in GPAW.\n",
      "\n",
      "double_perovskites_gap_lumo: Supplementary lumo data of 55 atoms for the double_perovskites_gap dataset.\n",
      "\n",
      "elastic_tensor_2015: 1,181 structures with elastic properties calculated with DFT-PBE.\n",
      "\n",
      "expt_formation_enthalpy: Experimental formation enthalpies for inorganic compounds, collected from years of calorimetric experiments. There are 1,276 entries in this dataset, mostly binary compounds. Matching mpids or oqmdids as well as the DFT-computed formation energies are also added (if any).\n",
      "\n",
      "expt_formation_enthalpy_kingsbury: Dataset containing experimental standard formation enthalpies for solids. Formation enthalpies were compiled primarily from Kim et al., Kubaschewski, and the NIST JANAF tables (see references). Elements, liquids, and gases were excluded. Data were deduplicated such that each material is associated with a single formation enthalpy value. Refer to Wang et al. (see references) for a complete desciption of the methods used. Materials Project database IDs (mp-ids) were assigned to materials from among computed materials in the Materials Project database (version 2021.03.22) that were 1) not marked 'theoretical', 2) had structures matching at least one ICSD material, and 3) were within 200 meV of the DFT-computed stable energy hull (e_above_hull < 0.2 eV). Among these candidates, we chose the mp-id with the lowest e_above_hull that matched the reported spacegroup (where available).\n",
      "\n",
      "expt_gap: Experimental band gap of 6354 inorganic semiconductors.\n",
      "\n",
      "expt_gap_kingsbury: Identical to the matbench_expt_gap dataset, except that Materials Project database IDs (mp-ids) have been associated with each material using the same method as described for the expt_formation_enthalpy_kingsbury dataset. Columns have also been renamed for consistency with the formation enthalpy data.\n",
      "\n",
      "flla: 3938 structures and computed formation energies from \"Crystal Structure Representations for Machine Learning Models of Formation Energies.\"\n",
      "\n",
      "glass_binary: Metallic glass formation data for binary alloys, collected from various experimental techniques such as melt-spinning or mechanical alloying. This dataset covers all compositions with an interval of 5 at. % in 59 binary systems, containing a total of 5959 alloys in the dataset. The target property of this dataset is the glass forming ability (GFA), i.e. whether the composition can form monolithic glass or not, which is either 1 for glass forming or 0 for non-full glass forming.\n",
      "\n",
      "glass_binary_v2: Identical to glass_binary dataset, but with duplicate entries merged. If there was a disagreement in gfa when merging the class was defaulted to 1.\n",
      "\n",
      "glass_ternary_hipt: Metallic glass formation dataset for ternary alloys, collected from the high-throughput sputtering experiments measuring whether it is possible to form a glass using sputtering. The hipt experimental data are of the Co-Fe-Zr, Co-Ti-Zr, Co-V-Zr and Fe-Ti-Nb ternary systems.\n",
      "\n",
      "glass_ternary_landolt: Metallic glass formation dataset for ternary alloys, collected from the \"Nonequilibrium Phase Diagrams of Ternary Amorphous Alloys,’ a volume of the Landolt– Börnstein collection. This dataset contains experimental measurements of whether it is possible to form a glass using a variety of processing techniques at thousands of compositions from hundreds of ternary systems. The processing techniques are designated in the \"processing\" column. There are originally 7191 experiments in this dataset, will be reduced to 6203 after deduplicated, and will be further reduced to 6118 if combining multiple data for one composition. There are originally 6780 melt-spinning experiments in this dataset, will be reduced to 5800 if deduplicated, and will be further reduced to 5736 if combining multiple experimental data for one composition.\n",
      "\n",
      "heusler_magnetic: 1153 Heusler alloys with DFT-calculated magnetic and electronic properties. The 1153 alloys include 576 full, 449 half and 128 inverse Heusler alloys. The data are extracted and cleaned (including de-duplicating) from Citrine.\n",
      "\n",
      "jarvis_dft_2d: Various properties of 636 2D materials computed with the OptB88vdW and TBmBJ functionals taken from the JARVIS DFT database.\n",
      "\n",
      "jarvis_dft_3d: Various properties of 25,923 bulk materials computed with the OptB88vdW and TBmBJ functionals taken from the JARVIS DFT database.\n",
      "\n",
      "jarvis_ml_dft_training: Various properties of 24,759 bulk and 2D materials computed with the OptB88vdW and TBmBJ functionals taken from the JARVIS DFT database.\n",
      "\n",
      "m2ax: Elastic properties of 223 stable M2AX compounds from \"A comprehensive survey of M2AX phase elastic properties\" by Cover et al. Calculations are PAW PW91.\n",
      "\n",
      "matbench_dielectric: Matbench v0.1 test dataset for predicting refractive index from structure. Adapted from Materials Project database. Removed entries having a formation energy (or energy above the convex hull) more than 150meV and those having refractive indices less than 1 and those containing noble gases. Retrieved April 2, 2019. For benchmarking w/ nested cross validation, the order of the dataset must be identical to the retrieved data; refer to the Automatminer/Matbench publication for more details.\n",
      "\n",
      "matbench_expt_gap: Matbench v0.1 test dataset for predicting experimental band gap from composition alone. Retrieved from Zhuo et al. supplementary information. Deduplicated according to composition, removing compositions with reported band gaps spanning more than a 0.1eV range; remaining compositions were assigned values based on the closest experimental value to the mean experimental value for that composition among all reports. For benchmarking w/ nested cross validation, the order of the dataset must be identical to the retrieved data; refer to the Automatminer/Matbench publication for more details.\n",
      "\n",
      "matbench_expt_is_metal: Matbench v0.1 test dataset for classifying metallicity from composition alone. Retrieved from Zhuo et al. supplementary information. Deduplicated according to composition, ensuring no conflicting reports were entered for any compositions (i.e., no reported compositions were both metal and nonmetal). For benchmarking w/ nested cross validation, the order of the dataset must be identical to the retrieved data; refer to the Automatminer/Matbench publication for more details.\n",
      "\n",
      "matbench_glass: Matbench v0.1 test dataset for predicting full bulk metallic glass formation ability from chemical formula. Retrieved from \"Nonequilibrium Phase Diagrams of Ternary Amorphous Alloys,’ a volume of the Landolt– Börnstein collection. Deduplicated according to composition, ensuring no compositions were reported as both GFA and not GFA (i.e., all reports agreed on the classification designation). For benchmarking w/ nested cross validation, the order of the dataset must be identical to the retrieved data; refer to the Automatminer/Matbench publication for more details.\n",
      "\n",
      "matbench_jdft2d: Matbench v0.1 test dataset for predicting exfoliation energies from crystal structure (computed with the OptB88vdW and TBmBJ functionals). Adapted from the JARVIS DFT database. For benchmarking w/ nested cross validation, the order of the dataset must be identical to the retrieved data; refer to the Automatminer/Matbench publication for more details.\n",
      "\n",
      "matbench_log_gvrh: Matbench v0.1 test dataset for predicting DFT log10 VRH-average shear modulus from structure. Adapted from Materials Project database. Removed entries having a formation energy (or energy above the convex hull) more than 150meV and those having negative G_Voigt, G_Reuss, G_VRH, K_Voigt, K_Reuss, or K_VRH and those failing G_Reuss <= G_VRH <= G_Voigt or K_Reuss <= K_VRH <= K_Voigt and those containing noble gases. Retrieved April 2, 2019. For benchmarking w/ nested cross validation, the order of the dataset must be identical to the retrieved data; refer to the Automatminer/Matbench publication for more details.\n",
      "\n",
      "matbench_log_kvrh: Matbench v0.1 test dataset for predicting DFT log10 VRH-average bulk modulus from structure. Adapted from Materials Project database. Removed entries having a formation energy (or energy above the convex hull) more than 150meV and those having negative G_Voigt, G_Reuss, G_VRH, K_Voigt, K_Reuss, or K_VRH and those failing G_Reuss <= G_VRH <= G_Voigt or K_Reuss <= K_VRH <= K_Voigt and those containing noble gases. Retrieved April 2, 2019. For benchmarking w/ nested cross validation, the order of the dataset must be identical to the retrieved data; refer to the Automatminer/Matbench publication for more details.\n",
      "\n",
      "matbench_mp_e_form: Matbench v0.1 test dataset for predicting DFT formation energy from structure. Adapted from Materials Project database. Removed entries having formation energy more than 2.5eV and those containing noble gases. Retrieved April 2, 2019. For benchmarking w/ nested cross validation, the order of the dataset must be identical to the retrieved data; refer to the Automatminer/Matbench publication for more details.\n",
      "\n",
      "matbench_mp_gap: Matbench v0.1 test dataset for predicting DFT PBE band gap from structure. Adapted from Materials Project database. Removed entries having a formation energy (or energy above the convex hull) more than 150meV and those containing noble gases. Retrieved April 2, 2019. For benchmarking w/ nested cross validation, the order of the dataset must be identical to the retrieved data; refer to the Automatminer/Matbench publication for more details.\n",
      "\n",
      "matbench_mp_is_metal: Matbench v0.1 test dataset for predicting DFT metallicity from structure. Adapted from Materials Project database. Removed entries having a formation energy (or energy above the convex hull) more than 150meV and those containing noble gases. Retrieved April 2, 2019. For benchmarking w/ nested cross validation, the order of the dataset must be identical to the retrieved data; refer to the Automatminer/Matbench publication for more details.\n",
      "\n",
      "matbench_perovskites: Matbench v0.1 test dataset for predicting formation energy from crystal structure. Adapted from an original dataset generated by Castelli et al. For benchmarking w/ nested cross validation, the order of the dataset must be identical to the retrieved data; refer to the Automatminer/Matbench publication for more details.\n",
      "\n",
      "matbench_phonons: Matbench v0.1 test dataset for predicting vibration properties from crystal structure. Original data retrieved from Petretto et al. Original calculations done via ABINIT in the harmonic approximation based on density functional perturbation theory. Removed entries having a formation energy (or energy above the convex hull) more than 150meV. For benchmarking w/ nested cross validation, the order of the dataset must be identical to the retrieved data; refer to the Automatminer/Matbench publication for more details.\n",
      "\n",
      "matbench_steels: Matbench v0.1 test dataset for predicting steel yield strengths from chemical composition alone. Retrieved from Citrine informatics. Deduplicated. For benchmarking w/ nested cross validation, the order of the dataset must be identical to the retrieved data; refer to the Automatminer/Matbench publication for more details.\n",
      "\n",
      "mp_all_20181018: A complete copy of the Materials Project database as of 10/18/2018. mp_all files contain structure data for each material while mp_nostruct does not.\n",
      "\n",
      "mp_nostruct_20181018: A complete copy of the Materials Project database as of 10/18/2018. mp_all files contain structure data for each material while mp_nostruct does not.\n",
      "\n",
      "phonon_dielectric_mp: Phonon (lattice/atoms vibrations) and dielectric properties of 1296 compounds computed via ABINIT software package in the harmonic approximation based on density functional perturbation theory.\n",
      "\n",
      "piezoelectric_tensor: 941 structures with piezoelectric properties, calculated with DFT-PBE.\n",
      "\n",
      "ricci_boltztrap_mp_tabular: Ab-initio electronic transport database for inorganic materials. Complex multivariable BoltzTraP simulation data is condensed down into tabular form of two main motifs: average eigenvalues at set moderate carrier concentrations and temperatures, and optimal values among all carrier concentrations and temperatures within certain ranges. Here are reported the average of the eigenvalues of conductivity effective mass (mₑᶜᵒⁿᵈ), the Seebeck coefficient (S), the conductivity (σ), the electronic thermal conductivity (κₑ), and the Power Factor (PF) at a doping level of 10¹⁸ cm⁻³ and at a temperature of 300 K for n- and p-type. Also, the maximum values for S, σ, PF, and the minimum value for κₑ chosen among the temperatures [100, 1300] K, the doping levels [10¹⁶, 10²¹] cm⁻³, and doping types are reported. The properties that depend on the relaxation time are reported divided by the constant value 10⁻¹⁴. The average of the eigenvalues for all the properties at all the temperatures, doping levels, and doping types are reported in the tables for each entry. Data is indexed by materials project id (mpid)\n",
      "\n",
      "steel_strength: 312 steels with experimental yield strength and ultimate tensile strength, extracted and cleaned (including de-duplicating) from Citrine.\n",
      "\n",
      "wolverton_oxides: 4,914 perovskite oxides containing composition data, lattice constants, and formation + vacancy formation energies. All perovskites are of the form ABO3. Adapted from a dataset presented by Emery and Wolverton.\n",
      "\n",
      "\n",
      "Dataset: boltztrap_mp\n",
      "Description: Effective mass and thermoelectric properties of 8924 compounds in The  Materials Project database that are calculated by the BoltzTraP software package run on the GGA-PBE or GGA+U density functional theory calculation results. The properties are reported at the temperature of 300 Kelvin and the carrier concentration of 1e18 1/cm3.\n",
      "Columns:\n",
      "\tformula: Chemical formula of the entry\n",
      "\tm_n: n-type/conduction band effective mass. Units: m_e where m_e is the mass of an electron; i.e. m_n is a unitless ratio\n",
      "\tm_p: p-type/valence band effective mass.\n",
      "\tmpid: Materials Project identifier\n",
      "\tpf_n: n-type thermoelectric power factor in uW/cm2.K where uW is microwatts and a constant relaxation time of 1e-14 assumed.\n",
      "\tpf_p: p-type power factor in uW/cm2.K\n",
      "\ts_n: n-type Seebeck coefficient in micro Volts per Kelvin\n",
      "\ts_p: p-type Seebeck coefficient in micro Volts per Kelvin\n",
      "\tstructure: pymatgen Structure object describing the crystal structure of the material\n",
      "Num Entries: 8924\n",
      "Reference: Ricci, F. et al. An ab initio electronic transport database for inorganic materials. Sci. Data 4:170085 doi: 10.1038/sdata.2017.85 (2017).\n",
      "Ricci F, Chen W, Aydemir U, Snyder J, Rignanese G, Jain A, Hautier G (2017) Data from: An ab initio electronic transport database for inorganic materials. Dryad Digital Repository. https://doi.org/10.5061/dryad.gn001\n",
      "Bibtex citations: ['@Article{Ricci2017,\\nauthor={Ricci, Francesco\\nand Chen, Wei\\nand Aydemir, Umut\\nand Snyder, G. Jeffrey\\nand Rignanese, Gian-Marco\\nand Jain, Anubhav\\nand Hautier, Geoffroy},\\ntitle={An ab initio electronic transport database for inorganic materials},\\njournal={Scientific Data},\\nyear={2017},\\nmonth={Jul},\\nday={04},\\npublisher={The Author(s)},\\nvolume={4},\\npages={170085},\\nnote={Data Descriptor},\\nurl={http://dx.doi.org/10.1038/sdata.2017.85}\\n}', '@misc{dryad_gn001,\\ntitle = {Data from: An ab initio electronic transport database for inorganic materials},\\nauthor = {Ricci, F and Chen, W and Aydemir, U and Snyder, J and Rignanese, G and Jain, A and Hautier, G},\\nyear = {2017},\\njournal = {Scientific Data},\\nURL = {https://doi.org/10.5061/dryad.gn001},\\ndoi = {doi:10.5061/dryad.gn001},\\npublisher = {Dryad Digital Repository}\\n}']\n",
      "File type: json.gz\n",
      "Figshare URL: https://ndownloader.figshare.com/files/13297511\n",
      "SHA256 Hash Digest: 02c8ea59a3805cdd50aef6f6f55c3d0148eda9e5cab871ff37d2fa46fb5941d7\n",
      "\n",
      "\n"
     ]
    }
   ],
   "source": [
    "get_available_datasets()  #Get all information for available datasets in matminer\n",
    "print(get_all_dataset_info(\"boltztrap_mp\"))  #get informationn for a specific dataset"
   ]
  },
  {
   "cell_type": "code",
   "execution_count": 3,
   "id": "593b23e5",
   "metadata": {},
   "outputs": [
    {
     "name": "stdout",
     "output_type": "stream",
     "text": [
      "Fetching wolverton_oxides.json.gz from https://ndownloader.figshare.com/files/13354616 to /Users/yuanrongyu/opt/anaconda3/lib/python3.8/site-packages/matminer/datasets/wolverton_oxides.json.gz\n"
     ]
    },
    {
     "name": "stderr",
     "output_type": "stream",
     "text": [
      "Fetching https://ndownloader.figshare.com/files/13354616 in MB: 0.16383999999999999MB [00:00, 61.25MB/s]      \n"
     ]
    }
   ],
   "source": [
    "'''wolverton_oxides: 4,914 perovskite oxides containing composition data, lattice constants, \n",
    "and formation + vacancy formation energies. All perovskites are of the form ABO3. \n",
    "Adapted from a dataset presented by Emery and Wolverton.'''\n",
    "df = load_dataset(\"wolverton_oxides\")"
   ]
  },
  {
   "cell_type": "code",
   "execution_count": 7,
   "id": "3c9c05cc",
   "metadata": {},
   "outputs": [
    {
     "name": "stdout",
     "output_type": "stream",
     "text": [
      "Fetching castelli_perovskites.json.gz from https://ndownloader.figshare.com/files/13284197 to /Users/yuanrongyu/opt/anaconda3/lib/python3.8/site-packages/matminer/datasets/castelli_perovskites.json.gz\n"
     ]
    },
    {
     "name": "stderr",
     "output_type": "stream",
     "text": [
      "Fetching https://ndownloader.figshare.com/files/13284197 in MB: 4.9479679999999995MB [00:00, 189.44MB/s]               \n"
     ]
    }
   ],
   "source": [
    "'''castelli_perovskites: 18,928 perovskites generated with ABX combinatorics, \n",
    "calculating gllbsc band gap and pbe structure, and also reporting absolute \n",
    "band edge positions and heat of formation.'''\n",
    "df = load_dataset(\"castelli_perovskites\")"
   ]
  },
  {
   "cell_type": "code",
   "execution_count": 9,
   "id": "39ea695b",
   "metadata": {},
   "outputs": [
    {
     "name": "stdout",
     "output_type": "stream",
     "text": [
      "Fetching glass_ternary_hipt.json.gz from https://ndownloader.figshare.com/files/13298018 to /Users/yuanrongyu/opt/anaconda3/lib/python3.8/site-packages/matminer/datasets/glass_ternary_hipt.json.gz\n"
     ]
    },
    {
     "name": "stderr",
     "output_type": "stream",
     "text": [
      "Fetching https://ndownloader.figshare.com/files/13298018 in MB: 0.07168MB [00:00, 23.72MB/s]                  \n"
     ]
    }
   ],
   "source": [
    "df = load_dataset(\"glass_ternary_hipt\")"
   ]
  },
  {
   "cell_type": "code",
   "execution_count": 10,
   "id": "d6d10c6f",
   "metadata": {},
   "outputs": [
    {
     "data": {
      "text/html": [
       "<div>\n",
       "<style scoped>\n",
       "    .dataframe tbody tr th:only-of-type {\n",
       "        vertical-align: middle;\n",
       "    }\n",
       "\n",
       "    .dataframe tbody tr th {\n",
       "        vertical-align: top;\n",
       "    }\n",
       "\n",
       "    .dataframe thead th {\n",
       "        text-align: right;\n",
       "    }\n",
       "</style>\n",
       "<table border=\"1\" class=\"dataframe\">\n",
       "  <thead>\n",
       "    <tr style=\"text-align: right;\">\n",
       "      <th></th>\n",
       "      <th>formula</th>\n",
       "      <th>system</th>\n",
       "      <th>processing</th>\n",
       "      <th>phase</th>\n",
       "      <th>gfa</th>\n",
       "    </tr>\n",
       "  </thead>\n",
       "  <tbody>\n",
       "    <tr>\n",
       "      <th>0</th>\n",
       "      <td>Co8.040000Fe16.187000Zr75.773000</td>\n",
       "      <td>CoFeZr</td>\n",
       "      <td>sputtering</td>\n",
       "      <td>CR</td>\n",
       "      <td>0</td>\n",
       "    </tr>\n",
       "    <tr>\n",
       "      <th>1</th>\n",
       "      <td>Co7.831000Fe14.814000Zr77.355000</td>\n",
       "      <td>CoFeZr</td>\n",
       "      <td>sputtering</td>\n",
       "      <td>CR</td>\n",
       "      <td>0</td>\n",
       "    </tr>\n",
       "    <tr>\n",
       "      <th>2</th>\n",
       "      <td>Co7.613000Fe13.548000Zr78.839000</td>\n",
       "      <td>CoFeZr</td>\n",
       "      <td>sputtering</td>\n",
       "      <td>CR</td>\n",
       "      <td>0</td>\n",
       "    </tr>\n",
       "    <tr>\n",
       "      <th>3</th>\n",
       "      <td>Co7.387000Fe12.380000Zr80.233000</td>\n",
       "      <td>CoFeZr</td>\n",
       "      <td>sputtering</td>\n",
       "      <td>CR</td>\n",
       "      <td>0</td>\n",
       "    </tr>\n",
       "    <tr>\n",
       "      <th>4</th>\n",
       "      <td>Co7.157000Fe11.308000Zr81.535000</td>\n",
       "      <td>CoFeZr</td>\n",
       "      <td>sputtering</td>\n",
       "      <td>CR</td>\n",
       "      <td>0</td>\n",
       "    </tr>\n",
       "    <tr>\n",
       "      <th>...</th>\n",
       "      <td>...</td>\n",
       "      <td>...</td>\n",
       "      <td>...</td>\n",
       "      <td>...</td>\n",
       "      <td>...</td>\n",
       "    </tr>\n",
       "    <tr>\n",
       "      <th>5165</th>\n",
       "      <td>Fe58.065000Ti29.314000Nb12.621000</td>\n",
       "      <td>FeTiNb</td>\n",
       "      <td>sputtering</td>\n",
       "      <td>CR</td>\n",
       "      <td>0</td>\n",
       "    </tr>\n",
       "    <tr>\n",
       "      <th>5166</th>\n",
       "      <td>Fe58.032000Ti28.646000Nb13.321000</td>\n",
       "      <td>FeTiNb</td>\n",
       "      <td>sputtering</td>\n",
       "      <td>CR</td>\n",
       "      <td>0</td>\n",
       "    </tr>\n",
       "    <tr>\n",
       "      <th>5167</th>\n",
       "      <td>Fe57.965000Ti27.980000Nb14.056000</td>\n",
       "      <td>FeTiNb</td>\n",
       "      <td>sputtering</td>\n",
       "      <td>CR</td>\n",
       "      <td>0</td>\n",
       "    </tr>\n",
       "    <tr>\n",
       "      <th>5168</th>\n",
       "      <td>Fe57.861000Ti27.313000Nb14.826000</td>\n",
       "      <td>FeTiNb</td>\n",
       "      <td>sputtering</td>\n",
       "      <td>CR</td>\n",
       "      <td>0</td>\n",
       "    </tr>\n",
       "    <tr>\n",
       "      <th>5169</th>\n",
       "      <td>Fe57.720000Ti26.647000Nb15.632000</td>\n",
       "      <td>FeTiNb</td>\n",
       "      <td>sputtering</td>\n",
       "      <td>CR</td>\n",
       "      <td>0</td>\n",
       "    </tr>\n",
       "  </tbody>\n",
       "</table>\n",
       "<p>5170 rows × 5 columns</p>\n",
       "</div>"
      ],
      "text/plain": [
       "                                formula  system  processing phase  gfa\n",
       "0      Co8.040000Fe16.187000Zr75.773000  CoFeZr  sputtering    CR    0\n",
       "1      Co7.831000Fe14.814000Zr77.355000  CoFeZr  sputtering    CR    0\n",
       "2      Co7.613000Fe13.548000Zr78.839000  CoFeZr  sputtering    CR    0\n",
       "3      Co7.387000Fe12.380000Zr80.233000  CoFeZr  sputtering    CR    0\n",
       "4      Co7.157000Fe11.308000Zr81.535000  CoFeZr  sputtering    CR    0\n",
       "...                                 ...     ...         ...   ...  ...\n",
       "5165  Fe58.065000Ti29.314000Nb12.621000  FeTiNb  sputtering    CR    0\n",
       "5166  Fe58.032000Ti28.646000Nb13.321000  FeTiNb  sputtering    CR    0\n",
       "5167  Fe57.965000Ti27.980000Nb14.056000  FeTiNb  sputtering    CR    0\n",
       "5168  Fe57.861000Ti27.313000Nb14.826000  FeTiNb  sputtering    CR    0\n",
       "5169  Fe57.720000Ti26.647000Nb15.632000  FeTiNb  sputtering    CR    0\n",
       "\n",
       "[5170 rows x 5 columns]"
      ]
     },
     "execution_count": 10,
     "metadata": {},
     "output_type": "execute_result"
    }
   ],
   "source": [
    "df"
   ]
  },
  {
   "cell_type": "code",
   "execution_count": null,
   "id": "17191eed",
   "metadata": {},
   "outputs": [],
   "source": []
  },
  {
   "cell_type": "code",
   "execution_count": null,
   "id": "ed3838c6",
   "metadata": {},
   "outputs": [],
   "source": []
  },
  {
   "cell_type": "code",
   "execution_count": null,
   "id": "338a529e",
   "metadata": {},
   "outputs": [],
   "source": []
  },
  {
   "cell_type": "code",
   "execution_count": null,
   "id": "dca54c24",
   "metadata": {},
   "outputs": [],
   "source": []
  },
  {
   "cell_type": "code",
   "execution_count": null,
   "id": "e3f338b7",
   "metadata": {},
   "outputs": [],
   "source": []
  },
  {
   "cell_type": "code",
   "execution_count": null,
   "id": "5175b1d7",
   "metadata": {},
   "outputs": [],
   "source": []
  },
  {
   "cell_type": "markdown",
   "id": "f8ff2c3e",
   "metadata": {},
   "source": [
    "## Retrive dataset from materials project"
   ]
  },
  {
   "cell_type": "code",
   "execution_count": 34,
   "id": "f8435070",
   "metadata": {},
   "outputs": [],
   "source": [
    "#Import modules\n",
    "from matminer.datasets import get_available_datasets\n",
    "from matminer.featurizers.composition.element import ElementFraction\n",
    "from matminer.datasets import get_all_dataset_info\n",
    "from matminer.datasets.dataset_retrieval import load_dataset"
   ]
  },
  {
   "cell_type": "code",
   "execution_count": 35,
   "id": "cbb11ea8",
   "metadata": {},
   "outputs": [
    {
     "data": {
      "application/vnd.jupyter.widget-view+json": {
       "model_id": "412ecae90257448fb8e908ed9b503e04",
       "version_major": 2,
       "version_minor": 0
      },
      "text/plain": [
       "  0%|          | 0/19282 [00:00<?, ?it/s]"
      ]
     },
     "metadata": {},
     "output_type": "display_data"
    }
   ],
   "source": [
    "from matminer.data_retrieval.retrieve_MP import MPDataRetrieval\n",
    "mpdr = MPDataRetrieval(\"tqUlQrOc9T8stc6yWMK\") #Or mpr = MPRester(\"your_api_key\")\n",
    "df = mpdr.get_dataframe(criteria={\"nelements\": 2}\n",
    "                        ,properties=[\"pretty_formula\",\"formation_energy_per_atom\",\"structure\"] #Properties:https://github.com/materialsproject/mapidoc/tree/master/materials\n",
    "                        , index_mpid=False\n",
    "                       )"
   ]
  },
  {
   "cell_type": "code",
   "execution_count": 36,
   "id": "a64356f5",
   "metadata": {},
   "outputs": [
    {
     "data": {
      "text/html": [
       "<div>\n",
       "<style scoped>\n",
       "    .dataframe tbody tr th:only-of-type {\n",
       "        vertical-align: middle;\n",
       "    }\n",
       "\n",
       "    .dataframe tbody tr th {\n",
       "        vertical-align: top;\n",
       "    }\n",
       "\n",
       "    .dataframe thead th {\n",
       "        text-align: right;\n",
       "    }\n",
       "</style>\n",
       "<table border=\"1\" class=\"dataframe\">\n",
       "  <thead>\n",
       "    <tr style=\"text-align: right;\">\n",
       "      <th></th>\n",
       "      <th>pretty_formula</th>\n",
       "      <th>formation_energy_per_atom</th>\n",
       "      <th>structure</th>\n",
       "    </tr>\n",
       "  </thead>\n",
       "  <tbody>\n",
       "    <tr>\n",
       "      <th>0</th>\n",
       "      <td>ZrAg2</td>\n",
       "      <td>-0.047643</td>\n",
       "      <td>[[0. 0. 0.] Zr, [0.         0.         6.08155...</td>\n",
       "    </tr>\n",
       "    <tr>\n",
       "      <th>1</th>\n",
       "      <td>YbAg2</td>\n",
       "      <td>-0.339129</td>\n",
       "      <td>[[0. 0. 0.] Yb, [0.         0.         6.31347...</td>\n",
       "    </tr>\n",
       "    <tr>\n",
       "      <th>2</th>\n",
       "      <td>AgC</td>\n",
       "      <td>2.235510</td>\n",
       "      <td>[[0. 0. 0.] Ag, [2.333879 2.333879 2.333879] C]</td>\n",
       "    </tr>\n",
       "    <tr>\n",
       "      <th>3</th>\n",
       "      <td>AgC</td>\n",
       "      <td>2.257721</td>\n",
       "      <td>[[0. 0. 0.] Ag, [1.2368 1.2368 1.2368] C]</td>\n",
       "    </tr>\n",
       "    <tr>\n",
       "      <th>4</th>\n",
       "      <td>InAg</td>\n",
       "      <td>0.050328</td>\n",
       "      <td>[[1.755117 1.755117 1.755117] In, [0. 0. 0.] Ag]</td>\n",
       "    </tr>\n",
       "    <tr>\n",
       "      <th>...</th>\n",
       "      <td>...</td>\n",
       "      <td>...</td>\n",
       "      <td>...</td>\n",
       "    </tr>\n",
       "    <tr>\n",
       "      <th>19277</th>\n",
       "      <td>Y3Th</td>\n",
       "      <td>0.054572</td>\n",
       "      <td>[[1.8233659  1.05272084 1.452639  ] Y, [5.4098...</td>\n",
       "    </tr>\n",
       "    <tr>\n",
       "      <th>19278</th>\n",
       "      <td>YbU3</td>\n",
       "      <td>0.645650</td>\n",
       "      <td>[[0. 0. 0.] Yb, [0.        2.2129755 2.2129755...</td>\n",
       "    </tr>\n",
       "    <tr>\n",
       "      <th>19279</th>\n",
       "      <td>Yb3W</td>\n",
       "      <td>0.813515</td>\n",
       "      <td>[[1.85446261 1.07067456 1.31987375] Yb, [5.044...</td>\n",
       "    </tr>\n",
       "    <tr>\n",
       "      <th>19280</th>\n",
       "      <td>V5Te4</td>\n",
       "      <td>-0.306610</td>\n",
       "      <td>[[0. 0. 0.] V, [-0.86785697  1.55408953  1.988...</td>\n",
       "    </tr>\n",
       "    <tr>\n",
       "      <th>19281</th>\n",
       "      <td>YTi</td>\n",
       "      <td>0.364058</td>\n",
       "      <td>[[0. 0. 0.] Y, [1.829046 1.829046 1.829046] Ti]</td>\n",
       "    </tr>\n",
       "  </tbody>\n",
       "</table>\n",
       "<p>19282 rows × 3 columns</p>\n",
       "</div>"
      ],
      "text/plain": [
       "      pretty_formula  formation_energy_per_atom  \\\n",
       "0              ZrAg2                  -0.047643   \n",
       "1              YbAg2                  -0.339129   \n",
       "2                AgC                   2.235510   \n",
       "3                AgC                   2.257721   \n",
       "4               InAg                   0.050328   \n",
       "...              ...                        ...   \n",
       "19277           Y3Th                   0.054572   \n",
       "19278           YbU3                   0.645650   \n",
       "19279           Yb3W                   0.813515   \n",
       "19280          V5Te4                  -0.306610   \n",
       "19281            YTi                   0.364058   \n",
       "\n",
       "                                               structure  \n",
       "0      [[0. 0. 0.] Zr, [0.         0.         6.08155...  \n",
       "1      [[0. 0. 0.] Yb, [0.         0.         6.31347...  \n",
       "2        [[0. 0. 0.] Ag, [2.333879 2.333879 2.333879] C]  \n",
       "3              [[0. 0. 0.] Ag, [1.2368 1.2368 1.2368] C]  \n",
       "4       [[1.755117 1.755117 1.755117] In, [0. 0. 0.] Ag]  \n",
       "...                                                  ...  \n",
       "19277  [[1.8233659  1.05272084 1.452639  ] Y, [5.4098...  \n",
       "19278  [[0. 0. 0.] Yb, [0.        2.2129755 2.2129755...  \n",
       "19279  [[1.85446261 1.07067456 1.31987375] Yb, [5.044...  \n",
       "19280  [[0. 0. 0.] V, [-0.86785697  1.55408953  1.988...  \n",
       "19281    [[0. 0. 0.] Y, [1.829046 1.829046 1.829046] Ti]  \n",
       "\n",
       "[19282 rows x 3 columns]"
      ]
     },
     "execution_count": 36,
     "metadata": {},
     "output_type": "execute_result"
    }
   ],
   "source": [
    "df"
   ]
  },
  {
   "cell_type": "code",
   "execution_count": 37,
   "id": "0301c1b4",
   "metadata": {},
   "outputs": [
    {
     "data": {
      "application/vnd.jupyter.widget-view+json": {
       "model_id": "2aeba44ecce44d619d7c407fdce9ef86",
       "version_major": 2,
       "version_minor": 0
      },
      "text/plain": [
       "StrToComposition:   0%|          | 0/19282 [00:00<?, ?it/s]"
      ]
     },
     "metadata": {},
     "output_type": "display_data"
    },
    {
     "data": {
      "application/vnd.jupyter.widget-view+json": {
       "model_id": "6cd9f7cb86d44d5583dfe0dd63a8c17d",
       "version_major": 2,
       "version_minor": 0
      },
      "text/plain": [
       "ElementFraction:   0%|          | 0/19282 [00:00<?, ?it/s]"
      ]
     },
     "metadata": {},
     "output_type": "display_data"
    }
   ],
   "source": [
    "from matminer.featurizers.conversions import StrToComposition\n",
    "ef = ElementFraction()\n",
    "df1 = StrToComposition(target_col_id='composition_obj').featurize_dataframe(df, 'pretty_formula')\n",
    "df1 = ef.featurize_dataframe(df1, \"composition_obj\",ignore_errors=True)"
   ]
  },
  {
   "cell_type": "code",
   "execution_count": 38,
   "id": "1980d619",
   "metadata": {},
   "outputs": [
    {
     "data": {
      "text/html": [
       "<div>\n",
       "<style scoped>\n",
       "    .dataframe tbody tr th:only-of-type {\n",
       "        vertical-align: middle;\n",
       "    }\n",
       "\n",
       "    .dataframe tbody tr th {\n",
       "        vertical-align: top;\n",
       "    }\n",
       "\n",
       "    .dataframe thead th {\n",
       "        text-align: right;\n",
       "    }\n",
       "</style>\n",
       "<table border=\"1\" class=\"dataframe\">\n",
       "  <thead>\n",
       "    <tr style=\"text-align: right;\">\n",
       "      <th></th>\n",
       "      <th>pretty_formula</th>\n",
       "      <th>formation_energy_per_atom</th>\n",
       "      <th>structure</th>\n",
       "      <th>composition_obj</th>\n",
       "      <th>H</th>\n",
       "      <th>He</th>\n",
       "      <th>Li</th>\n",
       "      <th>Be</th>\n",
       "      <th>B</th>\n",
       "      <th>C</th>\n",
       "      <th>...</th>\n",
       "      <th>Pu</th>\n",
       "      <th>Am</th>\n",
       "      <th>Cm</th>\n",
       "      <th>Bk</th>\n",
       "      <th>Cf</th>\n",
       "      <th>Es</th>\n",
       "      <th>Fm</th>\n",
       "      <th>Md</th>\n",
       "      <th>No</th>\n",
       "      <th>Lr</th>\n",
       "    </tr>\n",
       "  </thead>\n",
       "  <tbody>\n",
       "    <tr>\n",
       "      <th>0</th>\n",
       "      <td>ZrAg2</td>\n",
       "      <td>-0.047643</td>\n",
       "      <td>[[0. 0. 0.] Zr, [0.         0.         6.08155...</td>\n",
       "      <td>(Zr, Ag)</td>\n",
       "      <td>0.0</td>\n",
       "      <td>0</td>\n",
       "      <td>0.0</td>\n",
       "      <td>0.0</td>\n",
       "      <td>0.0</td>\n",
       "      <td>0.0</td>\n",
       "      <td>...</td>\n",
       "      <td>0.0</td>\n",
       "      <td>0</td>\n",
       "      <td>0</td>\n",
       "      <td>0</td>\n",
       "      <td>0</td>\n",
       "      <td>0</td>\n",
       "      <td>0</td>\n",
       "      <td>0</td>\n",
       "      <td>0</td>\n",
       "      <td>0</td>\n",
       "    </tr>\n",
       "    <tr>\n",
       "      <th>1</th>\n",
       "      <td>YbAg2</td>\n",
       "      <td>-0.339129</td>\n",
       "      <td>[[0. 0. 0.] Yb, [0.         0.         6.31347...</td>\n",
       "      <td>(Yb, Ag)</td>\n",
       "      <td>0.0</td>\n",
       "      <td>0</td>\n",
       "      <td>0.0</td>\n",
       "      <td>0.0</td>\n",
       "      <td>0.0</td>\n",
       "      <td>0.0</td>\n",
       "      <td>...</td>\n",
       "      <td>0.0</td>\n",
       "      <td>0</td>\n",
       "      <td>0</td>\n",
       "      <td>0</td>\n",
       "      <td>0</td>\n",
       "      <td>0</td>\n",
       "      <td>0</td>\n",
       "      <td>0</td>\n",
       "      <td>0</td>\n",
       "      <td>0</td>\n",
       "    </tr>\n",
       "    <tr>\n",
       "      <th>2</th>\n",
       "      <td>AgC</td>\n",
       "      <td>2.235510</td>\n",
       "      <td>[[0. 0. 0.] Ag, [2.333879 2.333879 2.333879] C]</td>\n",
       "      <td>(Ag, C)</td>\n",
       "      <td>0.0</td>\n",
       "      <td>0</td>\n",
       "      <td>0.0</td>\n",
       "      <td>0.0</td>\n",
       "      <td>0.0</td>\n",
       "      <td>0.5</td>\n",
       "      <td>...</td>\n",
       "      <td>0.0</td>\n",
       "      <td>0</td>\n",
       "      <td>0</td>\n",
       "      <td>0</td>\n",
       "      <td>0</td>\n",
       "      <td>0</td>\n",
       "      <td>0</td>\n",
       "      <td>0</td>\n",
       "      <td>0</td>\n",
       "      <td>0</td>\n",
       "    </tr>\n",
       "    <tr>\n",
       "      <th>3</th>\n",
       "      <td>AgC</td>\n",
       "      <td>2.257721</td>\n",
       "      <td>[[0. 0. 0.] Ag, [1.2368 1.2368 1.2368] C]</td>\n",
       "      <td>(Ag, C)</td>\n",
       "      <td>0.0</td>\n",
       "      <td>0</td>\n",
       "      <td>0.0</td>\n",
       "      <td>0.0</td>\n",
       "      <td>0.0</td>\n",
       "      <td>0.5</td>\n",
       "      <td>...</td>\n",
       "      <td>0.0</td>\n",
       "      <td>0</td>\n",
       "      <td>0</td>\n",
       "      <td>0</td>\n",
       "      <td>0</td>\n",
       "      <td>0</td>\n",
       "      <td>0</td>\n",
       "      <td>0</td>\n",
       "      <td>0</td>\n",
       "      <td>0</td>\n",
       "    </tr>\n",
       "    <tr>\n",
       "      <th>4</th>\n",
       "      <td>InAg</td>\n",
       "      <td>0.050328</td>\n",
       "      <td>[[1.755117 1.755117 1.755117] In, [0. 0. 0.] Ag]</td>\n",
       "      <td>(In, Ag)</td>\n",
       "      <td>0.0</td>\n",
       "      <td>0</td>\n",
       "      <td>0.0</td>\n",
       "      <td>0.0</td>\n",
       "      <td>0.0</td>\n",
       "      <td>0.0</td>\n",
       "      <td>...</td>\n",
       "      <td>0.0</td>\n",
       "      <td>0</td>\n",
       "      <td>0</td>\n",
       "      <td>0</td>\n",
       "      <td>0</td>\n",
       "      <td>0</td>\n",
       "      <td>0</td>\n",
       "      <td>0</td>\n",
       "      <td>0</td>\n",
       "      <td>0</td>\n",
       "    </tr>\n",
       "    <tr>\n",
       "      <th>5</th>\n",
       "      <td>AgN</td>\n",
       "      <td>1.537965</td>\n",
       "      <td>[[0. 0. 0.] Ag, [1.2374215 1.2374215 1.2374215...</td>\n",
       "      <td>(Ag, N)</td>\n",
       "      <td>0.0</td>\n",
       "      <td>0</td>\n",
       "      <td>0.0</td>\n",
       "      <td>0.0</td>\n",
       "      <td>0.0</td>\n",
       "      <td>0.0</td>\n",
       "      <td>...</td>\n",
       "      <td>0.0</td>\n",
       "      <td>0</td>\n",
       "      <td>0</td>\n",
       "      <td>0</td>\n",
       "      <td>0</td>\n",
       "      <td>0</td>\n",
       "      <td>0</td>\n",
       "      <td>0</td>\n",
       "      <td>0</td>\n",
       "      <td>0</td>\n",
       "    </tr>\n",
       "    <tr>\n",
       "      <th>6</th>\n",
       "      <td>AgN</td>\n",
       "      <td>1.532930</td>\n",
       "      <td>[[ 1.576895   -0.91042249  0.        ] Ag, [0....</td>\n",
       "      <td>(Ag, N)</td>\n",
       "      <td>0.0</td>\n",
       "      <td>0</td>\n",
       "      <td>0.0</td>\n",
       "      <td>0.0</td>\n",
       "      <td>0.0</td>\n",
       "      <td>0.0</td>\n",
       "      <td>...</td>\n",
       "      <td>0.0</td>\n",
       "      <td>0</td>\n",
       "      <td>0</td>\n",
       "      <td>0</td>\n",
       "      <td>0</td>\n",
       "      <td>0</td>\n",
       "      <td>0</td>\n",
       "      <td>0</td>\n",
       "      <td>0</td>\n",
       "      <td>0</td>\n",
       "    </tr>\n",
       "    <tr>\n",
       "      <th>7</th>\n",
       "      <td>TiAg</td>\n",
       "      <td>-0.065696</td>\n",
       "      <td>[[0.       1.459368 7.330504] Ti, [1.459368 0....</td>\n",
       "      <td>(Ti, Ag)</td>\n",
       "      <td>0.0</td>\n",
       "      <td>0</td>\n",
       "      <td>0.0</td>\n",
       "      <td>0.0</td>\n",
       "      <td>0.0</td>\n",
       "      <td>0.0</td>\n",
       "      <td>...</td>\n",
       "      <td>0.0</td>\n",
       "      <td>0</td>\n",
       "      <td>0</td>\n",
       "      <td>0</td>\n",
       "      <td>0</td>\n",
       "      <td>0</td>\n",
       "      <td>0</td>\n",
       "      <td>0</td>\n",
       "      <td>0</td>\n",
       "      <td>0</td>\n",
       "    </tr>\n",
       "    <tr>\n",
       "      <th>8</th>\n",
       "      <td>LiAg</td>\n",
       "      <td>-0.220713</td>\n",
       "      <td>[[ 2.00123000e+00 -2.22044605e-16  2.07824550e...</td>\n",
       "      <td>(Li, Ag)</td>\n",
       "      <td>0.0</td>\n",
       "      <td>0</td>\n",
       "      <td>0.5</td>\n",
       "      <td>0.0</td>\n",
       "      <td>0.0</td>\n",
       "      <td>0.0</td>\n",
       "      <td>...</td>\n",
       "      <td>0.0</td>\n",
       "      <td>0</td>\n",
       "      <td>0</td>\n",
       "      <td>0</td>\n",
       "      <td>0</td>\n",
       "      <td>0</td>\n",
       "      <td>0</td>\n",
       "      <td>0</td>\n",
       "      <td>0</td>\n",
       "      <td>0</td>\n",
       "    </tr>\n",
       "    <tr>\n",
       "      <th>9</th>\n",
       "      <td>LuAg2</td>\n",
       "      <td>-0.341119</td>\n",
       "      <td>[[0. 0. 0.] Lu, [0.         0.         6.07611...</td>\n",
       "      <td>(Lu, Ag)</td>\n",
       "      <td>0.0</td>\n",
       "      <td>0</td>\n",
       "      <td>0.0</td>\n",
       "      <td>0.0</td>\n",
       "      <td>0.0</td>\n",
       "      <td>0.0</td>\n",
       "      <td>...</td>\n",
       "      <td>0.0</td>\n",
       "      <td>0</td>\n",
       "      <td>0</td>\n",
       "      <td>0</td>\n",
       "      <td>0</td>\n",
       "      <td>0</td>\n",
       "      <td>0</td>\n",
       "      <td>0</td>\n",
       "      <td>0</td>\n",
       "      <td>0</td>\n",
       "    </tr>\n",
       "  </tbody>\n",
       "</table>\n",
       "<p>10 rows × 107 columns</p>\n",
       "</div>"
      ],
      "text/plain": [
       "  pretty_formula  formation_energy_per_atom  \\\n",
       "0          ZrAg2                  -0.047643   \n",
       "1          YbAg2                  -0.339129   \n",
       "2            AgC                   2.235510   \n",
       "3            AgC                   2.257721   \n",
       "4           InAg                   0.050328   \n",
       "5            AgN                   1.537965   \n",
       "6            AgN                   1.532930   \n",
       "7           TiAg                  -0.065696   \n",
       "8           LiAg                  -0.220713   \n",
       "9          LuAg2                  -0.341119   \n",
       "\n",
       "                                           structure composition_obj    H  He  \\\n",
       "0  [[0. 0. 0.] Zr, [0.         0.         6.08155...        (Zr, Ag)  0.0   0   \n",
       "1  [[0. 0. 0.] Yb, [0.         0.         6.31347...        (Yb, Ag)  0.0   0   \n",
       "2    [[0. 0. 0.] Ag, [2.333879 2.333879 2.333879] C]         (Ag, C)  0.0   0   \n",
       "3          [[0. 0. 0.] Ag, [1.2368 1.2368 1.2368] C]         (Ag, C)  0.0   0   \n",
       "4   [[1.755117 1.755117 1.755117] In, [0. 0. 0.] Ag]        (In, Ag)  0.0   0   \n",
       "5  [[0. 0. 0.] Ag, [1.2374215 1.2374215 1.2374215...         (Ag, N)  0.0   0   \n",
       "6  [[ 1.576895   -0.91042249  0.        ] Ag, [0....         (Ag, N)  0.0   0   \n",
       "7  [[0.       1.459368 7.330504] Ti, [1.459368 0....        (Ti, Ag)  0.0   0   \n",
       "8  [[ 2.00123000e+00 -2.22044605e-16  2.07824550e...        (Li, Ag)  0.0   0   \n",
       "9  [[0. 0. 0.] Lu, [0.         0.         6.07611...        (Lu, Ag)  0.0   0   \n",
       "\n",
       "    Li   Be    B    C  ...   Pu  Am  Cm  Bk  Cf  Es  Fm  Md  No  Lr  \n",
       "0  0.0  0.0  0.0  0.0  ...  0.0   0   0   0   0   0   0   0   0   0  \n",
       "1  0.0  0.0  0.0  0.0  ...  0.0   0   0   0   0   0   0   0   0   0  \n",
       "2  0.0  0.0  0.0  0.5  ...  0.0   0   0   0   0   0   0   0   0   0  \n",
       "3  0.0  0.0  0.0  0.5  ...  0.0   0   0   0   0   0   0   0   0   0  \n",
       "4  0.0  0.0  0.0  0.0  ...  0.0   0   0   0   0   0   0   0   0   0  \n",
       "5  0.0  0.0  0.0  0.0  ...  0.0   0   0   0   0   0   0   0   0   0  \n",
       "6  0.0  0.0  0.0  0.0  ...  0.0   0   0   0   0   0   0   0   0   0  \n",
       "7  0.0  0.0  0.0  0.0  ...  0.0   0   0   0   0   0   0   0   0   0  \n",
       "8  0.5  0.0  0.0  0.0  ...  0.0   0   0   0   0   0   0   0   0   0  \n",
       "9  0.0  0.0  0.0  0.0  ...  0.0   0   0   0   0   0   0   0   0   0  \n",
       "\n",
       "[10 rows x 107 columns]"
      ]
     },
     "execution_count": 38,
     "metadata": {},
     "output_type": "execute_result"
    }
   ],
   "source": [
    "df1.head(10)"
   ]
  },
  {
   "cell_type": "code",
   "execution_count": 41,
   "id": "a25a5e79",
   "metadata": {},
   "outputs": [],
   "source": [
    "#drop the sample with the same composition (keep the one with lower formation energy)\n",
    "df1.sort_values(by=\"formation_energy_per_atom\",axis=0,inplace=True)\n",
    "df1.drop_duplicates(subset=['pretty_formula'],keep=\"first\",inplace=True) #Drop sample with the same composition"
   ]
  },
  {
   "cell_type": "code",
   "execution_count": 42,
   "id": "74bf7390",
   "metadata": {},
   "outputs": [
    {
     "data": {
      "text/plain": [
       "['MagpieData minimum Number',\n",
       " 'MagpieData maximum Number',\n",
       " 'MagpieData range Number',\n",
       " 'MagpieData mean Number',\n",
       " 'MagpieData avg_dev Number',\n",
       " 'MagpieData mode Number',\n",
       " 'MagpieData minimum MendeleevNumber',\n",
       " 'MagpieData maximum MendeleevNumber',\n",
       " 'MagpieData range MendeleevNumber',\n",
       " 'MagpieData mean MendeleevNumber',\n",
       " 'MagpieData avg_dev MendeleevNumber',\n",
       " 'MagpieData mode MendeleevNumber',\n",
       " 'MagpieData minimum AtomicWeight',\n",
       " 'MagpieData maximum AtomicWeight',\n",
       " 'MagpieData range AtomicWeight',\n",
       " 'MagpieData mean AtomicWeight',\n",
       " 'MagpieData avg_dev AtomicWeight',\n",
       " 'MagpieData mode AtomicWeight',\n",
       " 'MagpieData minimum MeltingT',\n",
       " 'MagpieData maximum MeltingT',\n",
       " 'MagpieData range MeltingT',\n",
       " 'MagpieData mean MeltingT',\n",
       " 'MagpieData avg_dev MeltingT',\n",
       " 'MagpieData mode MeltingT',\n",
       " 'MagpieData minimum Column',\n",
       " 'MagpieData maximum Column',\n",
       " 'MagpieData range Column',\n",
       " 'MagpieData mean Column',\n",
       " 'MagpieData avg_dev Column',\n",
       " 'MagpieData mode Column',\n",
       " 'MagpieData minimum Row',\n",
       " 'MagpieData maximum Row',\n",
       " 'MagpieData range Row',\n",
       " 'MagpieData mean Row',\n",
       " 'MagpieData avg_dev Row',\n",
       " 'MagpieData mode Row',\n",
       " 'MagpieData minimum CovalentRadius',\n",
       " 'MagpieData maximum CovalentRadius',\n",
       " 'MagpieData range CovalentRadius',\n",
       " 'MagpieData mean CovalentRadius',\n",
       " 'MagpieData avg_dev CovalentRadius',\n",
       " 'MagpieData mode CovalentRadius',\n",
       " 'MagpieData minimum Electronegativity',\n",
       " 'MagpieData maximum Electronegativity',\n",
       " 'MagpieData range Electronegativity',\n",
       " 'MagpieData mean Electronegativity',\n",
       " 'MagpieData avg_dev Electronegativity',\n",
       " 'MagpieData mode Electronegativity',\n",
       " 'MagpieData minimum NsValence',\n",
       " 'MagpieData maximum NsValence',\n",
       " 'MagpieData range NsValence',\n",
       " 'MagpieData mean NsValence',\n",
       " 'MagpieData avg_dev NsValence',\n",
       " 'MagpieData mode NsValence',\n",
       " 'MagpieData minimum NpValence',\n",
       " 'MagpieData maximum NpValence',\n",
       " 'MagpieData range NpValence',\n",
       " 'MagpieData mean NpValence',\n",
       " 'MagpieData avg_dev NpValence',\n",
       " 'MagpieData mode NpValence',\n",
       " 'MagpieData minimum NdValence',\n",
       " 'MagpieData maximum NdValence',\n",
       " 'MagpieData range NdValence',\n",
       " 'MagpieData mean NdValence',\n",
       " 'MagpieData avg_dev NdValence',\n",
       " 'MagpieData mode NdValence',\n",
       " 'MagpieData minimum NfValence',\n",
       " 'MagpieData maximum NfValence',\n",
       " 'MagpieData range NfValence',\n",
       " 'MagpieData mean NfValence',\n",
       " 'MagpieData avg_dev NfValence',\n",
       " 'MagpieData mode NfValence',\n",
       " 'MagpieData minimum NValence',\n",
       " 'MagpieData maximum NValence',\n",
       " 'MagpieData range NValence',\n",
       " 'MagpieData mean NValence',\n",
       " 'MagpieData avg_dev NValence',\n",
       " 'MagpieData mode NValence',\n",
       " 'MagpieData minimum NsUnfilled',\n",
       " 'MagpieData maximum NsUnfilled',\n",
       " 'MagpieData range NsUnfilled',\n",
       " 'MagpieData mean NsUnfilled',\n",
       " 'MagpieData avg_dev NsUnfilled',\n",
       " 'MagpieData mode NsUnfilled',\n",
       " 'MagpieData minimum NpUnfilled',\n",
       " 'MagpieData maximum NpUnfilled',\n",
       " 'MagpieData range NpUnfilled',\n",
       " 'MagpieData mean NpUnfilled',\n",
       " 'MagpieData avg_dev NpUnfilled',\n",
       " 'MagpieData mode NpUnfilled',\n",
       " 'MagpieData minimum NdUnfilled',\n",
       " 'MagpieData maximum NdUnfilled',\n",
       " 'MagpieData range NdUnfilled',\n",
       " 'MagpieData mean NdUnfilled',\n",
       " 'MagpieData avg_dev NdUnfilled',\n",
       " 'MagpieData mode NdUnfilled',\n",
       " 'MagpieData minimum NfUnfilled',\n",
       " 'MagpieData maximum NfUnfilled',\n",
       " 'MagpieData range NfUnfilled',\n",
       " 'MagpieData mean NfUnfilled',\n",
       " 'MagpieData avg_dev NfUnfilled',\n",
       " 'MagpieData mode NfUnfilled',\n",
       " 'MagpieData minimum NUnfilled',\n",
       " 'MagpieData maximum NUnfilled',\n",
       " 'MagpieData range NUnfilled',\n",
       " 'MagpieData mean NUnfilled',\n",
       " 'MagpieData avg_dev NUnfilled',\n",
       " 'MagpieData mode NUnfilled',\n",
       " 'MagpieData minimum GSvolume_pa',\n",
       " 'MagpieData maximum GSvolume_pa',\n",
       " 'MagpieData range GSvolume_pa',\n",
       " 'MagpieData mean GSvolume_pa',\n",
       " 'MagpieData avg_dev GSvolume_pa',\n",
       " 'MagpieData mode GSvolume_pa',\n",
       " 'MagpieData minimum GSbandgap',\n",
       " 'MagpieData maximum GSbandgap',\n",
       " 'MagpieData range GSbandgap',\n",
       " 'MagpieData mean GSbandgap',\n",
       " 'MagpieData avg_dev GSbandgap',\n",
       " 'MagpieData mode GSbandgap',\n",
       " 'MagpieData minimum GSmagmom',\n",
       " 'MagpieData maximum GSmagmom',\n",
       " 'MagpieData range GSmagmom',\n",
       " 'MagpieData mean GSmagmom',\n",
       " 'MagpieData avg_dev GSmagmom',\n",
       " 'MagpieData mode GSmagmom',\n",
       " 'MagpieData minimum SpaceGroupNumber',\n",
       " 'MagpieData maximum SpaceGroupNumber',\n",
       " 'MagpieData range SpaceGroupNumber',\n",
       " 'MagpieData mean SpaceGroupNumber',\n",
       " 'MagpieData avg_dev SpaceGroupNumber',\n",
       " 'MagpieData mode SpaceGroupNumber']"
      ]
     },
     "execution_count": 42,
     "metadata": {},
     "output_type": "execute_result"
    }
   ],
   "source": [
    "feature_lables"
   ]
  },
  {
   "cell_type": "code",
   "execution_count": 43,
   "id": "c3b061c1",
   "metadata": {},
   "outputs": [
    {
     "data": {
      "application/vnd.jupyter.widget-view+json": {
       "model_id": "edec4def247a4ebca04f323429ea442d",
       "version_major": 2,
       "version_minor": 0
      },
      "text/plain": [
       "MultipleFeaturizer:   0%|          | 0/10961 [00:00<?, ?it/s]"
      ]
     },
     "metadata": {},
     "output_type": "display_data"
    }
   ],
   "source": [
    "from matminer.featurizers.base import MultipleFeaturizer\n",
    "from matminer.featurizers import composition as cf\n",
    "feature_calculators = MultipleFeaturizer(#cf.Stoichiometry(),\n",
    "                                          [cf.ElementProperty.from_preset(\"magpie\")]\n",
    "                                          #,cf.ValenceOrbital(props=['avg'])\n",
    "                                          #, cf.IonProperty(fast=True)]\n",
    "             ) #All features\n",
    "feature_lables = feature_calculators.feature_labels() #Get labels of all generated features\n",
    "data = df1\n",
    "data = feature_calculators.featurize_dataframe(data, col_id='composition_obj')\n",
    "y = data[\"formation_energy_per_atom\"] #y-formation energy is the label \n",
    "X = data.drop(labels=[\"pretty_formula\",\"formation_energy_per_atom\",\"structure\",\"composition_obj\"],axis=1) #Data is the input matrix"
   ]
  },
  {
   "cell_type": "code",
   "execution_count": 55,
   "id": "e0b54c05",
   "metadata": {},
   "outputs": [],
   "source": [
    "spike_cols = [col for col in X.iloc[:,103:235].columns if 'mean' in col]"
   ]
  },
  {
   "cell_type": "code",
   "execution_count": 70,
   "id": "2c5ae1fb",
   "metadata": {},
   "outputs": [],
   "source": [
    "import pandas as pd\n",
    "X = pd.concat([X.iloc[:,:103], X[spike_cols]], axis=1,ignore_index=False, sort=False)"
   ]
  },
  {
   "cell_type": "code",
   "execution_count": 71,
   "id": "392fe78e",
   "metadata": {},
   "outputs": [
    {
     "data": {
      "text/html": [
       "<div>\n",
       "<style scoped>\n",
       "    .dataframe tbody tr th:only-of-type {\n",
       "        vertical-align: middle;\n",
       "    }\n",
       "\n",
       "    .dataframe tbody tr th {\n",
       "        vertical-align: top;\n",
       "    }\n",
       "\n",
       "    .dataframe thead th {\n",
       "        text-align: right;\n",
       "    }\n",
       "</style>\n",
       "<table border=\"1\" class=\"dataframe\">\n",
       "  <thead>\n",
       "    <tr style=\"text-align: right;\">\n",
       "      <th></th>\n",
       "      <th>No</th>\n",
       "      <th>Lr</th>\n",
       "      <th>MagpieData mean Number</th>\n",
       "      <th>MagpieData mean MendeleevNumber</th>\n",
       "      <th>MagpieData mean AtomicWeight</th>\n",
       "      <th>MagpieData mean MeltingT</th>\n",
       "      <th>MagpieData mean Column</th>\n",
       "      <th>MagpieData mean Row</th>\n",
       "      <th>MagpieData mean CovalentRadius</th>\n",
       "    </tr>\n",
       "  </thead>\n",
       "  <tbody>\n",
       "    <tr>\n",
       "      <th>8300</th>\n",
       "      <td>0</td>\n",
       "      <td>0</td>\n",
       "      <td>25.20</td>\n",
       "      <td>77.60</td>\n",
       "      <td>61.606335</td>\n",
       "      <td>447.4000</td>\n",
       "      <td>14.20</td>\n",
       "      <td>3.00</td>\n",
       "      <td>86.80</td>\n",
       "    </tr>\n",
       "    <tr>\n",
       "      <th>8455</th>\n",
       "      <td>0</td>\n",
       "      <td>0</td>\n",
       "      <td>21.00</td>\n",
       "      <td>73.00</td>\n",
       "      <td>48.975170</td>\n",
       "      <td>338.3750</td>\n",
       "      <td>13.50</td>\n",
       "      <td>3.00</td>\n",
       "      <td>94.50</td>\n",
       "    </tr>\n",
       "    <tr>\n",
       "      <th>7775</th>\n",
       "      <td>0</td>\n",
       "      <td>0</td>\n",
       "      <td>21.75</td>\n",
       "      <td>74.50</td>\n",
       "      <td>50.309302</td>\n",
       "      <td>363.6250</td>\n",
       "      <td>13.50</td>\n",
       "      <td>3.00</td>\n",
       "      <td>93.00</td>\n",
       "    </tr>\n",
       "    <tr>\n",
       "      <th>7957</th>\n",
       "      <td>0</td>\n",
       "      <td>0</td>\n",
       "      <td>23.75</td>\n",
       "      <td>78.50</td>\n",
       "      <td>56.063552</td>\n",
       "      <td>482.6250</td>\n",
       "      <td>13.50</td>\n",
       "      <td>3.00</td>\n",
       "      <td>90.00</td>\n",
       "    </tr>\n",
       "    <tr>\n",
       "      <th>7566</th>\n",
       "      <td>0</td>\n",
       "      <td>0</td>\n",
       "      <td>23.00</td>\n",
       "      <td>77.00</td>\n",
       "      <td>53.980140</td>\n",
       "      <td>447.3750</td>\n",
       "      <td>13.50</td>\n",
       "      <td>3.00</td>\n",
       "      <td>91.25</td>\n",
       "    </tr>\n",
       "    <tr>\n",
       "      <th>...</th>\n",
       "      <td>...</td>\n",
       "      <td>...</td>\n",
       "      <td>...</td>\n",
       "      <td>...</td>\n",
       "      <td>...</td>\n",
       "      <td>...</td>\n",
       "      <td>...</td>\n",
       "      <td>...</td>\n",
       "      <td>...</td>\n",
       "    </tr>\n",
       "    <tr>\n",
       "      <th>1156</th>\n",
       "      <td>0</td>\n",
       "      <td>0</td>\n",
       "      <td>56.60</td>\n",
       "      <td>58.40</td>\n",
       "      <td>140.164524</td>\n",
       "      <td>1217.2000</td>\n",
       "      <td>10.20</td>\n",
       "      <td>5.20</td>\n",
       "      <td>149.80</td>\n",
       "    </tr>\n",
       "    <tr>\n",
       "      <th>16683</th>\n",
       "      <td>0</td>\n",
       "      <td>0</td>\n",
       "      <td>45.40</td>\n",
       "      <td>57.00</td>\n",
       "      <td>110.998601</td>\n",
       "      <td>928.3800</td>\n",
       "      <td>10.20</td>\n",
       "      <td>4.60</td>\n",
       "      <td>144.20</td>\n",
       "    </tr>\n",
       "    <tr>\n",
       "      <th>16682</th>\n",
       "      <td>0</td>\n",
       "      <td>0</td>\n",
       "      <td>45.80</td>\n",
       "      <td>57.80</td>\n",
       "      <td>113.795821</td>\n",
       "      <td>753.5800</td>\n",
       "      <td>10.20</td>\n",
       "      <td>4.60</td>\n",
       "      <td>142.60</td>\n",
       "    </tr>\n",
       "    <tr>\n",
       "      <th>3579</th>\n",
       "      <td>0</td>\n",
       "      <td>0</td>\n",
       "      <td>12.25</td>\n",
       "      <td>76.25</td>\n",
       "      <td>26.438775</td>\n",
       "      <td>2942.9775</td>\n",
       "      <td>13.75</td>\n",
       "      <td>2.50</td>\n",
       "      <td>87.50</td>\n",
       "    </tr>\n",
       "    <tr>\n",
       "      <th>3576</th>\n",
       "      <td>0</td>\n",
       "      <td>0</td>\n",
       "      <td>16.75</td>\n",
       "      <td>76.50</td>\n",
       "      <td>37.712525</td>\n",
       "      <td>2974.6875</td>\n",
       "      <td>13.75</td>\n",
       "      <td>2.75</td>\n",
       "      <td>92.50</td>\n",
       "    </tr>\n",
       "  </tbody>\n",
       "</table>\n",
       "<p>10961 rows × 9 columns</p>\n",
       "</div>"
      ],
      "text/plain": [
       "       No  Lr  MagpieData mean Number  MagpieData mean MendeleevNumber  \\\n",
       "8300    0   0                   25.20                            77.60   \n",
       "8455    0   0                   21.00                            73.00   \n",
       "7775    0   0                   21.75                            74.50   \n",
       "7957    0   0                   23.75                            78.50   \n",
       "7566    0   0                   23.00                            77.00   \n",
       "...    ..  ..                     ...                              ...   \n",
       "1156    0   0                   56.60                            58.40   \n",
       "16683   0   0                   45.40                            57.00   \n",
       "16682   0   0                   45.80                            57.80   \n",
       "3579    0   0                   12.25                            76.25   \n",
       "3576    0   0                   16.75                            76.50   \n",
       "\n",
       "       MagpieData mean AtomicWeight  MagpieData mean MeltingT  \\\n",
       "8300                      61.606335                  447.4000   \n",
       "8455                      48.975170                  338.3750   \n",
       "7775                      50.309302                  363.6250   \n",
       "7957                      56.063552                  482.6250   \n",
       "7566                      53.980140                  447.3750   \n",
       "...                             ...                       ...   \n",
       "1156                     140.164524                 1217.2000   \n",
       "16683                    110.998601                  928.3800   \n",
       "16682                    113.795821                  753.5800   \n",
       "3579                      26.438775                 2942.9775   \n",
       "3576                      37.712525                 2974.6875   \n",
       "\n",
       "       MagpieData mean Column  MagpieData mean Row  \\\n",
       "8300                    14.20                 3.00   \n",
       "8455                    13.50                 3.00   \n",
       "7775                    13.50                 3.00   \n",
       "7957                    13.50                 3.00   \n",
       "7566                    13.50                 3.00   \n",
       "...                       ...                  ...   \n",
       "1156                    10.20                 5.20   \n",
       "16683                   10.20                 4.60   \n",
       "16682                   10.20                 4.60   \n",
       "3579                    13.75                 2.50   \n",
       "3576                    13.75                 2.75   \n",
       "\n",
       "       MagpieData mean CovalentRadius  \n",
       "8300                            86.80  \n",
       "8455                            94.50  \n",
       "7775                            93.00  \n",
       "7957                            90.00  \n",
       "7566                            91.25  \n",
       "...                               ...  \n",
       "1156                           149.80  \n",
       "16683                          144.20  \n",
       "16682                          142.60  \n",
       "3579                            87.50  \n",
       "3576                            92.50  \n",
       "\n",
       "[10961 rows x 9 columns]"
      ]
     },
     "execution_count": 71,
     "metadata": {},
     "output_type": "execute_result"
    }
   ],
   "source": [
    "X.iloc[:,101:110]"
   ]
  },
  {
   "cell_type": "code",
   "execution_count": 72,
   "id": "e590aaaf",
   "metadata": {},
   "outputs": [
    {
     "data": {
      "image/png": "[encoded data removed]",
      "text/plain": [
       "<Figure size 432x288 with 2 Axes>"
      ]
     },
     "metadata": {
      "needs_background": "light"
     },
     "output_type": "display_data"
    }
   ],
   "source": [
    "import seaborn as sns\n",
    "cor_matrix = X.iloc[:,103:].corr()\n",
    "sns.heatmap(cor_matrix)\n",
    "plt.show()"
   ]
  },
  {
   "cell_type": "code",
   "execution_count": 73,
   "id": "bcc91ad6",
   "metadata": {},
   "outputs": [
    {
     "data": {
      "text/plain": [
       "pretty_formula                                                                     Ta2Ni\n",
       "formation_energy_per_atom                                                      -0.235206\n",
       "structure                              [[4.10258933 0.98829133 0.        ] Ta, [0.988...\n",
       "composition_obj                                                                 (Ta, Ni)\n",
       "H                                                                                    0.0\n",
       "                                                             ...                        \n",
       "MagpieData maximum SpaceGroupNumber                                                229.0\n",
       "MagpieData range SpaceGroupNumber                                                    4.0\n",
       "MagpieData mean SpaceGroupNumber                                              227.666667\n",
       "MagpieData avg_dev SpaceGroupNumber                                             1.777778\n",
       "MagpieData mode SpaceGroupNumber                                                   229.0\n",
       "Name: 15199, Length: 239, dtype: object"
      ]
     },
     "execution_count": 73,
     "metadata": {},
     "output_type": "execute_result"
    }
   ],
   "source": [
    "data.iloc[5845]"
   ]
  },
  {
   "cell_type": "code",
   "execution_count": 74,
   "id": "c9cb4d30",
   "metadata": {},
   "outputs": [
    {
     "data": {
      "text/plain": [
       "{(O, F): [7537], (O, F): [7962], (Cl, F): [5805], (Cl, F): [5918], (Cl, F): [5639], (Cl, O): [5640], (Cl, O): [5732], (Cl, O): [5712], (Cl, O): [5329], (Cl, O): [5254], (Cl, O): [5806], (Cl, O): [5823], (N, F): [7525], (N, F): [8067], (N, O): [14163], (N, O): [14342], (N, O): [13653], (N, O): [14170], (N, O): [14171], (N, Cl): [5516], (N, Cl): [5836], (N, F): [7732], (N, O): [14261], (N, O): [14390], (N, O): [14364], (N, Cl): [5225], (N, O): [14175], (N, Cl): [5601], (Kr, F): [8337], (Br, F): [3267], (Br, F): [3291], (Br, O): [3629], (Br, O): [3097], (Br, O): [3632], (Br, O): [3096], (Br, Cl): [3580], (Br, N): [3630], (Br, N): [3685], (Br, N): [3084], (Br, O): [3297], (Br, O): [3302], (Br, Cl): [3105], (Br, N): [3334], (I, F): [7835], (I, F): [7815], (I, F): [7827], (I, O): [10786], (I, O): [10804], (I, Cl): [5853], (I, Cl): [5960], (I, Cl): [5782], (I, N): [10513], (I, N): [10529], (I, N): [10932], (I, N): [10620], (I, N): [10532], (I, Br): [3837], (I, Br): [3644], (I, O): [10797], (I, N): [10658], (I, O): [10544], (I, N): [10625], (I, N): [10535], (Xe, F): [8266], (Xe, F): [8341], (Xe, F): [7814], (Xe, F): [8339], (Xe, O): [15314], (S, F): [8137], (S, F): [7944], (S, O): [16208], (S, O): [15233], (S, O): [16008], (S, O): [15564], (S, O): [15573], (S, O): [16059], (S, Cl): [5413], (S, Cl): [5791], (S, Cl): [5327], (S, N): [14329], (S, Br): [3292], (S, Br): [3456], (S, N): [14333], (S, Cl): [5591], (S, N): [14234], (S, N): [14148], (S, Br): [3457], (S, N): [14219], (S, N): [14296], (S, N): [13652], (S, O): [16203], (Se, F): [8291], (Se, O): [15906], (Se, O): [16205], (Se, O): [15064], (Se, Cl): [5832], (Se, Cl): [5838], (Se, N): [14368], (Se, Br): [3338], (Se, Br): [3955], ...}"
      ]
     },
     "execution_count": 74,
     "metadata": {},
     "output_type": "execute_result"
    }
   ],
   "source": [
    "data.groupby('composition_obj').groups"
   ]
  },
  {
   "cell_type": "code",
   "execution_count": 77,
   "id": "a921b339",
   "metadata": {},
   "outputs": [],
   "source": [
    "'''#PCA dimension reduction\n",
    "from sklearn.decomposition import PCA \n",
    "explained_variance_ratio = []\n",
    "for i in range(1,10): #Change n_components. Find an appropriate number of components that can represent most of the dataset and reduce computation time \n",
    "    pca = PCA(n_components=i)\n",
    "    pca.fit(X)\n",
    "    explained_variance_ratio.append(pca.explained_variance_ratio_.sum())\n",
    "    \n",
    "import matplotlib.pyplot as plt\n",
    "fig, ax1 = plt.subplots() #Plot the sum of explained_variance_ratio for different n_components\n",
    "color = 'lightseagreen'\n",
    "ax1.set_xlabel('n_components', fontsize=12)\n",
    "ax1.set_ylabel('sum of explained_variance_ratio', fontsize=12, labelpad=15)\n",
    "ax1.scatter(range(1,len(explained_variance_ratio)+1), explained_variance_ratio, color=color)\n",
    "plt.show() #From the plot, 9 components can represent the dataset.'''"
   ]
  },
  {
   "cell_type": "code",
   "execution_count": 9,
   "id": "1a6a0477",
   "metadata": {},
   "outputs": [],
   "source": [
    "from sklearn.model_selection import train_test_split #Split dataset to test and train set\n",
    "#pca = PCA(n_components=9)\n",
    "#X_train_pca, X_test_pca, y_train_pca, y_test_pca = train_test_split(pca.fit_transform(X), y, test_size=0.1, random_state=42)\n",
    "X_train,X_test,y_train,y_test = train_test_split(X, y, test_size=0.3, random_state=42)"
   ]
  },
  {
   "cell_type": "code",
   "execution_count": 65,
   "id": "bc5dc768",
   "metadata": {},
   "outputs": [
    {
     "name": "stdout",
     "output_type": "stream",
     "text": [
      "0.2477190181207797\n"
     ]
    },
    {
     "data": {
      "image/png": "[encoded data removed]",
      "text/plain": [
       "<Figure size 216x216 with 1 Axes>"
      ]
     },
     "metadata": {
      "needs_background": "light"
     },
     "output_type": "display_data"
    },
    {
     "name": "stdout",
     "output_type": "stream",
     "text": [
      "0.34883846326103457\n"
     ]
    },
    {
     "data": {
      "image/png": "[encoded data removed]",
      "text/plain": [
       "<Figure size 216x216 with 1 Axes>"
      ]
     },
     "metadata": {
      "needs_background": "light"
     },
     "output_type": "display_data"
    },
    {
     "name": "stdout",
     "output_type": "stream",
     "text": [
      "0.24763278518847884\n"
     ]
    },
    {
     "data": {
      "image/png": "[encoded data removed]",
      "text/plain": [
       "<Figure size 216x216 with 1 Axes>"
      ]
     },
     "metadata": {
      "needs_background": "light"
     },
     "output_type": "display_data"
    },
    {
     "name": "stdout",
     "output_type": "stream",
     "text": [
      "0.3182614593648829\n"
     ]
    },
    {
     "data": {
      "image/png": "[encoded data removed]",
      "text/plain": [
       "<Figure size 216x216 with 1 Axes>"
      ]
     },
     "metadata": {
      "needs_background": "light"
     },
     "output_type": "display_data"
    },
    {
     "data": {
      "text/plain": [
       "Text(0.5, 1.0, 'linear model')"
      ]
     },
     "execution_count": 65,
     "metadata": {},
     "output_type": "execute_result"
    },
    {
     "data": {
      "image/png": "[encoded data removed]",
      "text/plain": [
       "<Figure size 432x288 with 1 Axes>"
      ]
     },
     "metadata": {
      "needs_background": "light"
     },
     "output_type": "display_data"
    }
   ],
   "source": [
    "#Run the linear regression model to see the results\n",
    "\n",
    "from sklearn.linear_model import LinearRegression \n",
    "from sklearn.metrics import mean_absolute_error\n",
    "import matplotlib.pyplot as plt #Plot the results of linear regression\n",
    "from sklearn import linear_model\n",
    "lr_ = LinearRegression()\n",
    "lr_l1 = linear_model.Lasso(alpha=0.1)\n",
    "lr_l2 = linear_model.Ridge(alpha=0.1)\n",
    "lr_l1_l2 = linear_model.ElasticNet(alpha=0.1,l1_ratio=0.5)\n",
    "all_mae = []\n",
    "for model in [lr_,lr_l1,lr_l2,lr_l1_l2]:\n",
    "    \n",
    "    #lr = LinearRegression().fit(X_train_pca,y_train_pca)\n",
    "    model.fit(X_train,y_train)\n",
    "    #y_pred_pca = lr.predict(X_test_pca)\n",
    "    y_pred = model.predict(X_test)\n",
    "    print(mean_absolute_error(y_test,y_pred))\n",
    "    all_mae.append(mean_absolute_error(y_test,y_pred))\n",
    "    #print(mean_squared_error(y_test_pca,y_pred_pca))\n",
    "    fig, ax2 = plt.subplots(figsize=(3,3)) #Plot y_pred and y_test\n",
    "    ax2.set_xlabel('y_test', fontsize=12)\n",
    "    ax2.set_ylabel('y_pred', fontsize=12, labelpad=15)\n",
    "    ax2.scatter(y_test, y_pred, color=\"red\", s=2)\n",
    "    ax2.set_title(\"Results for linear model\")\n",
    "    ax2.plot(ax2.get_xlim(), ax2.get_xlim(), 'k--') #Dashed line shows y_pred == y_test\n",
    "    plt.show()\n",
    "plt.plot(range(len(all_mae)),all_mae)\n",
    "plt.ylabel('mean absolute error')\n",
    "plt.title('linear model')"
   ]
  },
  {
   "cell_type": "code",
   "execution_count": 46,
   "id": "8f584fd1",
   "metadata": {},
   "outputs": [
    {
     "data": {
      "text/plain": [
       "Text(0.5, 1.0, 'random forest')"
      ]
     },
     "execution_count": 46,
     "metadata": {},
     "output_type": "execute_result"
    },
    {
     "data": {
      "image/png": "[encoded data removed]",
      "text/plain": [
       "<Figure size 432x288 with 1 Axes>"
      ]
     },
     "metadata": {
      "needs_background": "light"
     },
     "output_type": "display_data"
    }
   ],
   "source": [
    "import matplotlib.pyplot as plt\n",
    "dd = [0.15759039431528485,0.1715294640192387,0.14808236261985097,0.1633443239412931,0.14108142565862114,0.15591743381922654]\n",
    "plt.plot(range(6),dd)\n",
    "plt.ylabel('mean absolute error')\n",
    "plt.title('random forest')"
   ]
  },
  {
   "cell_type": "code",
   "execution_count": 14,
   "id": "ed8dbe2d",
   "metadata": {},
   "outputs": [
    {
     "name": "stdout",
     "output_type": "stream",
     "text": [
      "0.15759039431528485\n",
      "0.1715294640192387\n",
      "0.14808236261985097\n",
      "0.1633443239412931\n",
      "0.14108142565862114\n",
      "0.15591743381922654\n"
     ]
    },
    {
     "data": {
      "image/png": "[encoded data removed]",
      "text/plain": [
       "<Figure size 216x216 with 1 Axes>"
      ]
     },
     "metadata": {
      "needs_background": "light"
     },
     "output_type": "display_data"
    },
    {
     "data": {
      "image/png": "[encoded data removed]",
      "text/plain": [
       "<Figure size 216x216 with 1 Axes>"
      ]
     },
     "metadata": {
      "needs_background": "light"
     },
     "output_type": "display_data"
    },
    {
     "data": {
      "image/png": "[encoded data removed]",
      "text/plain": [
       "<Figure size 216x216 with 1 Axes>"
      ]
     },
     "metadata": {
      "needs_background": "light"
     },
     "output_type": "display_data"
    },
    {
     "data": {
      "image/png": "[encoded data removed]",
      "text/plain": [
       "<Figure size 216x216 with 1 Axes>"
      ]
     },
     "metadata": {
      "needs_background": "light"
     },
     "output_type": "display_data"
    },
    {
     "data": {
      "image/png": "[encoded data removed]",
      "text/plain": [
       "<Figure size 216x216 with 1 Axes>"
      ]
     },
     "metadata": {
      "needs_background": "light"
     },
     "output_type": "display_data"
    },
    {
     "data": {
      "image/png": "[encoded data removed]",
      "text/plain": [
       "<Figure size 216x216 with 1 Axes>"
      ]
     },
     "metadata": {
      "needs_background": "light"
     },
     "output_type": "display_data"
    }
   ],
   "source": [
    "from sklearn.ensemble import RandomForestRegressor\n",
    "n_tree = [5,10,20]\n",
    "sample_leaf = [5,10]\n",
    "for i in n_tree:\n",
    "    for j in sample_leaf:\n",
    "        rf = RandomForestRegressor(n_estimators=i,min_samples_leaf=j,criterion=\"absolute_error\", random_state=666)\n",
    "        rf.fit(X_train, y_train)\n",
    "        y_rf = rf.predict(X_test)\n",
    "        print(mean_absolute_error(y_test,y_rf))\n",
    "\n",
    "        fig, ax2 = plt.subplots(figsize=(3,3)) #Plot y_pred and y_test\n",
    "        ax2.set_xlabel('y_test', fontsize=12)\n",
    "        ax2.set_ylabel('y_pred', fontsize=12, labelpad=15)\n",
    "        ax2.scatter(y_test, y_rf, color=\"red\", s=2)\n",
    "        ax2.set_title(\"Results for random forest {},{}\".format(i,j))\n",
    "        ax2.plot(ax2.get_xlim(), ax2.get_xlim(), 'k--') #Dashed line shows y_pred == y_test"
   ]
  },
  {
   "cell_type": "code",
   "execution_count": 17,
   "id": "314ccbf9",
   "metadata": {},
   "outputs": [
    {
     "name": "stdout",
     "output_type": "stream",
     "text": [
      "0.18294068634388388\n"
     ]
    },
    {
     "data": {
      "image/png": "[encoded data removed]",
      "text/plain": [
       "<Figure size 216x216 with 1 Axes>"
      ]
     },
     "metadata": {
      "needs_background": "light"
     },
     "output_type": "display_data"
    },
    {
     "name": "stdout",
     "output_type": "stream",
     "text": [
      "0.1793702080788316\n"
     ]
    },
    {
     "data": {
      "image/png": "[encoded data removed]",
      "text/plain": [
       "<Figure size 216x216 with 1 Axes>"
      ]
     },
     "metadata": {
      "needs_background": "light"
     },
     "output_type": "display_data"
    },
    {
     "name": "stdout",
     "output_type": "stream",
     "text": [
      "0.18182296498848535\n"
     ]
    },
    {
     "data": {
      "image/png": "[encoded data removed]",
      "text/plain": [
       "<Figure size 216x216 with 1 Axes>"
      ]
     },
     "metadata": {
      "needs_background": "light"
     },
     "output_type": "display_data"
    },
    {
     "name": "stdout",
     "output_type": "stream",
     "text": [
      "0.1843382959705918\n"
     ]
    },
    {
     "data": {
      "image/png": "[encoded data removed]",
      "text/plain": [
       "<Figure size 216x216 with 1 Axes>"
      ]
     },
     "metadata": {
      "needs_background": "light"
     },
     "output_type": "display_data"
    },
    {
     "name": "stdout",
     "output_type": "stream",
     "text": [
      "0.18728441334787313\n"
     ]
    },
    {
     "data": {
      "image/png": "[encoded data removed]",
      "text/plain": [
       "<Figure size 216x216 with 1 Axes>"
      ]
     },
     "metadata": {
      "needs_background": "light"
     },
     "output_type": "display_data"
    },
    {
     "name": "stdout",
     "output_type": "stream",
     "text": [
      "0.1911691558071959\n"
     ]
    },
    {
     "data": {
      "image/png": "[encoded data removed]",
      "text/plain": [
       "<Figure size 216x216 with 1 Axes>"
      ]
     },
     "metadata": {
      "needs_background": "light"
     },
     "output_type": "display_data"
    },
    {
     "name": "stdout",
     "output_type": "stream",
     "text": [
      "0.20397767394050556\n"
     ]
    },
    {
     "data": {
      "image/png": "[encoded data removed]",
      "text/plain": [
       "<Figure size 216x216 with 1 Axes>"
      ]
     },
     "metadata": {
      "needs_background": "light"
     },
     "output_type": "display_data"
    },
    {
     "name": "stdout",
     "output_type": "stream",
     "text": [
      "0.2075668366211093\n"
     ]
    },
    {
     "data": {
      "image/png": "[encoded data removed]",
      "text/plain": [
       "<Figure size 216x216 with 1 Axes>"
      ]
     },
     "metadata": {
      "needs_background": "light"
     },
     "output_type": "display_data"
    },
    {
     "data": {
      "text/plain": [
       "Text(0.5, 1.0, 'decision tree')"
      ]
     },
     "execution_count": 17,
     "metadata": {},
     "output_type": "execute_result"
    },
    {
     "data": {
      "image/png": "[encoded data removed]",
      "text/plain": [
       "<Figure size 432x288 with 1 Axes>"
      ]
     },
     "metadata": {
      "needs_background": "light"
     },
     "output_type": "display_data"
    }
   ],
   "source": [
    "#Run Decision Tree\n",
    "from sklearn.tree import DecisionTreeRegressor\n",
    "from sklearn.metrics import mean_absolute_error\n",
    "import matplotlib.pyplot as plt\n",
    "samples = [1,2,3,4,5,10,15,20]\n",
    "all_mae = []\n",
    "for s in samples:\n",
    "    DT = DecisionTreeRegressor(min_samples_leaf= s,random_state=66)\n",
    "    DT.fit(X_train,y_train)\n",
    "    dt_y = DT.predict(X_test)\n",
    "    print(mean_absolute_error(y_test,dt_y))\n",
    "    all_mae.append(mean_absolute_error(y_test,dt_y))\n",
    "\n",
    "    fig, ax3 = plt.subplots(figsize=(3,3)) #Plot y_pred and y_test\n",
    "    ax3.set_xlabel('y_test', fontsize=12)\n",
    "    ax3.set_ylabel('y_pred', fontsize=12, labelpad=15)\n",
    "    ax3.scatter(y_test, dt_y, color=\"red\", s=2)\n",
    "    ax3.set_title(\"Results for decision tree\")\n",
    "    ax3.plot(ax3.get_xlim(), ax3.get_xlim(), 'k--') #Dashed line shows y_pred == y_test\n",
    "    plt.show()\n",
    "plt.plot(range(len(all_mae)),all_mae)\n",
    "plt.ylabel('mean absolute error')\n",
    "plt.title('decision tree')"
   ]
  },
  {
   "cell_type": "code",
   "execution_count": 92,
   "id": "6e5cd4c4",
   "metadata": {},
   "outputs": [
    {
     "data": {
      "text/plain": [
       "Text(0.5, 1.0, 'feature importance for decision tree')"
      ]
     },
     "execution_count": 92,
     "metadata": {},
     "output_type": "execute_result"
    },
    {
     "data": {
      "image/png": "[encoded data removed]",
      "text/plain": [
       "<Figure size 432x288 with 1 Axes>"
      ]
     },
     "metadata": {
      "needs_background": "light"
     },
     "output_type": "display_data"
    }
   ],
   "source": [
    "#Visualize feature importance in Decision Tree model\n",
    "im_num = DT.feature_importances_.tolist()\n",
    "\n",
    "fig, ax = plt.subplots() #Plot y_pred and y_test\n",
    "ax.set_xlabel('feature index', fontsize=12)\n",
    "ax.set_ylabel('feature importance', fontsize=12, labelpad=15)\n",
    "ax.scatter(range(X.shape[1]), im_num, color=\"red\", s=2)\n",
    "ax.set_title(\"feature importance for decision tree\")"
   ]
  },
  {
   "cell_type": "code",
   "execution_count": 94,
   "id": "36610680",
   "metadata": {},
   "outputs": [
    {
     "data": {
      "text/plain": [
       "'MagpieData avg_dev Electronegativity'"
      ]
     },
     "execution_count": 94,
     "metadata": {},
     "output_type": "execute_result"
    }
   ],
   "source": [
    "idx = list(DT.feature_importances_).index(max(DT.feature_importances_)) #Get the feature that is most important\n",
    "X.columns[idx]"
   ]
  },
  {
   "cell_type": "code",
   "execution_count": 96,
   "id": "80c48ebf",
   "metadata": {},
   "outputs": [],
   "source": [
    "#features with >0.02 feature importance\n",
    "new_fea = []\n",
    "for i,item in enumerate(DT.feature_importances_):\n",
    "    if item >= 0.02:\n",
    "        new_fea.append(X.columns[i])"
   ]
  },
  {
   "cell_type": "code",
   "execution_count": 97,
   "id": "41d8b966",
   "metadata": {},
   "outputs": [],
   "source": [
    "formation_e_dataset = data.loc[:,new_fea]"
   ]
  },
  {
   "cell_type": "code",
   "execution_count": 98,
   "id": "e5132e41",
   "metadata": {},
   "outputs": [
    {
     "data": {
      "text/plain": [
       "['MagpieData avg_dev Column',\n",
       " 'MagpieData range Electronegativity',\n",
       " 'MagpieData avg_dev Electronegativity',\n",
       " 'MagpieData mode NpValence',\n",
       " 'MagpieData mean NdValence',\n",
       " 'MagpieData mean SpaceGroupNumber']"
      ]
     },
     "execution_count": 98,
     "metadata": {},
     "output_type": "execute_result"
    }
   ],
   "source": [
    "new_fea"
   ]
  },
  {
   "cell_type": "code",
   "execution_count": 99,
   "id": "70bee79a",
   "metadata": {},
   "outputs": [
    {
     "data": {
      "text/plain": [
       "(10961,)"
      ]
     },
     "execution_count": 99,
     "metadata": {},
     "output_type": "execute_result"
    }
   ],
   "source": [
    "y.shape"
   ]
  },
  {
   "cell_type": "code",
   "execution_count": 75,
   "id": "eddca2b4",
   "metadata": {},
   "outputs": [],
   "source": [
    "y.to_csv(\"y_sparse_2.csv\",index=False)"
   ]
  },
  {
   "cell_type": "code",
   "execution_count": 76,
   "id": "25533f42",
   "metadata": {},
   "outputs": [],
   "source": [
    "X.to_csv(\"X_sparse_2.csv\",index=False)"
   ]
  },
  {
   "cell_type": "code",
   "execution_count": 33,
   "id": "a8c16892",
   "metadata": {},
   "outputs": [
    {
     "data": {
      "text/plain": [
       "(19282, 235)"
      ]
     },
     "execution_count": 33,
     "metadata": {},
     "output_type": "execute_result"
    }
   ],
   "source": [
    "X.shape"
   ]
  },
  {
   "cell_type": "code",
   "execution_count": 102,
   "id": "3d70c9ac",
   "metadata": {},
   "outputs": [
    {
     "data": {
      "text/plain": [
       "(10961, 6)"
      ]
     },
     "execution_count": 102,
     "metadata": {},
     "output_type": "execute_result"
    }
   ],
   "source": [
    "formation_e_dataset.shape"
   ]
  },
  {
   "cell_type": "code",
   "execution_count": 106,
   "id": "2d7e22b8",
   "metadata": {},
   "outputs": [
    {
     "data": {
      "text/plain": [
       "array([-0.03825018,  0.00956892, -1.62012344, -0.08110484,  0.01429945,\n",
       "        0.00230659])"
      ]
     },
     "execution_count": 106,
     "metadata": {},
     "output_type": "execute_result"
    }
   ],
   "source": [
    "DT.coef_"
   ]
  },
  {
   "cell_type": "code",
   "execution_count": 107,
   "id": "55b2f1ac",
   "metadata": {},
   "outputs": [
    {
     "data": {
      "text/plain": [
       "-0.17125277331928412"
      ]
     },
     "execution_count": 107,
     "metadata": {},
     "output_type": "execute_result"
    }
   ],
   "source": [
    "DT.intercept_"
   ]
  },
  {
   "cell_type": "code",
   "execution_count": null,
   "id": "679d85e6",
   "metadata": {},
   "outputs": [],
   "source": []
  },
  {
   "cell_type": "code",
   "execution_count": null,
   "id": "d20e100a",
   "metadata": {},
   "outputs": [],
   "source": []
  },
  {
   "cell_type": "code",
   "execution_count": null,
   "id": "197afa16",
   "metadata": {},
   "outputs": [],
   "source": []
  },
  {
   "cell_type": "markdown",
   "id": "2d0657b2",
   "metadata": {},
   "source": [
    "# flla dataset"
   ]
  },
  {
   "cell_type": "code",
   "execution_count": 20,
   "id": "6f2e28ac",
   "metadata": {},
   "outputs": [],
   "source": [
    "'''flla: 3938 structures and computed formation energies from \"\n",
    "Crystal Structure Representations for Machine Learning Models of Formation Energies.\"'''\n",
    "df = load_dataset(\"flla\")"
   ]
  },
  {
   "cell_type": "code",
   "execution_count": 22,
   "id": "1747af91",
   "metadata": {},
   "outputs": [
    {
     "data": {
      "text/plain": [
       "['density', 'vpa', 'packing fraction']"
      ]
     },
     "execution_count": 22,
     "metadata": {},
     "output_type": "execute_result"
    }
   ],
   "source": [
    "from matminer.featurizers.structure import DensityFeatures\n",
    "densityf = DensityFeatures()\n",
    "densityf.feature_labels()"
   ]
  },
  {
   "cell_type": "code",
   "execution_count": 21,
   "id": "0b292d9f",
   "metadata": {},
   "outputs": [
    {
     "data": {
      "text/html": [
       "<div>\n",
       "<style scoped>\n",
       "    .dataframe tbody tr th:only-of-type {\n",
       "        vertical-align: middle;\n",
       "    }\n",
       "\n",
       "    .dataframe tbody tr th {\n",
       "        vertical-align: top;\n",
       "    }\n",
       "\n",
       "    .dataframe thead th {\n",
       "        text-align: right;\n",
       "    }\n",
       "</style>\n",
       "<table border=\"1\" class=\"dataframe\">\n",
       "  <thead>\n",
       "    <tr style=\"text-align: right;\">\n",
       "      <th></th>\n",
       "      <th>material_id</th>\n",
       "      <th>e_above_hull</th>\n",
       "      <th>formula</th>\n",
       "      <th>nsites</th>\n",
       "      <th>structure</th>\n",
       "      <th>formation_energy</th>\n",
       "      <th>formation_energy_per_atom</th>\n",
       "    </tr>\n",
       "  </thead>\n",
       "  <tbody>\n",
       "    <tr>\n",
       "      <th>0</th>\n",
       "      <td>mp-10</td>\n",
       "      <td>0.107405</td>\n",
       "      <td>{'As': 1.0}</td>\n",
       "      <td>2</td>\n",
       "      <td>[[1.11758409 0.79025129 1.93571242] As, [3.352...</td>\n",
       "      <td>0.214810</td>\n",
       "      <td>0.107405</td>\n",
       "    </tr>\n",
       "    <tr>\n",
       "      <th>1</th>\n",
       "      <td>mp-10000</td>\n",
       "      <td>0.000000</td>\n",
       "      <td>{'S': 1.0, 'Hf': 2.0}</td>\n",
       "      <td>6</td>\n",
       "      <td>[[0.         0.         8.84051822] S, [0.    ...</td>\n",
       "      <td>-7.520110</td>\n",
       "      <td>-1.253352</td>\n",
       "    </tr>\n",
       "    <tr>\n",
       "      <th>2</th>\n",
       "      <td>mp-10004</td>\n",
       "      <td>0.000000</td>\n",
       "      <td>{'P': 1.0, 'Mo': 3.0}</td>\n",
       "      <td>16</td>\n",
       "      <td>[[1.62101142 2.03208456 2.71687137] P, [2.9549...</td>\n",
       "      <td>-5.429887</td>\n",
       "      <td>-0.339368</td>\n",
       "    </tr>\n",
       "    <tr>\n",
       "      <th>3</th>\n",
       "      <td>mp-10010</td>\n",
       "      <td>0.000000</td>\n",
       "      <td>{'Al': 1.0, 'Si': 2.0, 'Co': 2.0}</td>\n",
       "      <td>5</td>\n",
       "      <td>[[0. 0. 0.] Al, [-2.29850896e-08  2.26918935e+...</td>\n",
       "      <td>-2.684175</td>\n",
       "      <td>-0.536835</td>\n",
       "    </tr>\n",
       "    <tr>\n",
       "      <th>4</th>\n",
       "      <td>mp-10021</td>\n",
       "      <td>0.004781</td>\n",
       "      <td>{'Ga': 1.0}</td>\n",
       "      <td>2</td>\n",
       "      <td>[[2.39728273 0.77565449 2.62420188] Ga, [0.393...</td>\n",
       "      <td>0.009563</td>\n",
       "      <td>0.004781</td>\n",
       "    </tr>\n",
       "    <tr>\n",
       "      <th>...</th>\n",
       "      <td>...</td>\n",
       "      <td>...</td>\n",
       "      <td>...</td>\n",
       "      <td>...</td>\n",
       "      <td>...</td>\n",
       "      <td>...</td>\n",
       "      <td>...</td>\n",
       "    </tr>\n",
       "    <tr>\n",
       "      <th>3933</th>\n",
       "      <td>mp-9967</td>\n",
       "      <td>0.000000</td>\n",
       "      <td>{'Si': 1.0, 'Nd': 1.0}</td>\n",
       "      <td>8</td>\n",
       "      <td>[[0.98626121 5.20155909 4.42295358] Si, [2.958...</td>\n",
       "      <td>-6.112147</td>\n",
       "      <td>-0.764018</td>\n",
       "    </tr>\n",
       "    <tr>\n",
       "      <th>3934</th>\n",
       "      <td>mp-9969</td>\n",
       "      <td>0.000000</td>\n",
       "      <td>{'Sc': 1.0, 'Si': 1.0}</td>\n",
       "      <td>4</td>\n",
       "      <td>[[ 0.91698283  2.15720017 -0.00221565] Si, [2....</td>\n",
       "      <td>-3.345796</td>\n",
       "      <td>-0.836449</td>\n",
       "    </tr>\n",
       "    <tr>\n",
       "      <th>3935</th>\n",
       "      <td>mp-9981</td>\n",
       "      <td>0.000000</td>\n",
       "      <td>{'Mn': 2.0, 'N': 1.0}</td>\n",
       "      <td>12</td>\n",
       "      <td>[[2.19866151 3.62018922 0.74235726] N, [0.    ...</td>\n",
       "      <td>-4.902647</td>\n",
       "      <td>-0.408554</td>\n",
       "    </tr>\n",
       "    <tr>\n",
       "      <th>3936</th>\n",
       "      <td>mp-9989</td>\n",
       "      <td>0.000000</td>\n",
       "      <td>{'Nb': 2.0, 'C': 1.0, 'As': 1.0}</td>\n",
       "      <td>8</td>\n",
       "      <td>[[0.         0.         6.03352716] C, [0. 0. ...</td>\n",
       "      <td>-4.901116</td>\n",
       "      <td>-0.612640</td>\n",
       "    </tr>\n",
       "    <tr>\n",
       "      <th>3937</th>\n",
       "      <td>mp-9999</td>\n",
       "      <td>0.000000</td>\n",
       "      <td>{'B': 2.0, 'Ni': 1.0, 'Mo': 2.0}</td>\n",
       "      <td>5</td>\n",
       "      <td>[[2.09378945 2.70715409 3.46713657] B, [1.7406...</td>\n",
       "      <td>-2.369551</td>\n",
       "      <td>-0.473910</td>\n",
       "    </tr>\n",
       "  </tbody>\n",
       "</table>\n",
       "<p>3938 rows × 7 columns</p>\n",
       "</div>"
      ],
      "text/plain": [
       "     material_id  e_above_hull                            formula  nsites  \\\n",
       "0          mp-10      0.107405                        {'As': 1.0}       2   \n",
       "1       mp-10000      0.000000              {'S': 1.0, 'Hf': 2.0}       6   \n",
       "2       mp-10004      0.000000              {'P': 1.0, 'Mo': 3.0}      16   \n",
       "3       mp-10010      0.000000  {'Al': 1.0, 'Si': 2.0, 'Co': 2.0}       5   \n",
       "4       mp-10021      0.004781                        {'Ga': 1.0}       2   \n",
       "...          ...           ...                                ...     ...   \n",
       "3933     mp-9967      0.000000             {'Si': 1.0, 'Nd': 1.0}       8   \n",
       "3934     mp-9969      0.000000             {'Sc': 1.0, 'Si': 1.0}       4   \n",
       "3935     mp-9981      0.000000              {'Mn': 2.0, 'N': 1.0}      12   \n",
       "3936     mp-9989      0.000000   {'Nb': 2.0, 'C': 1.0, 'As': 1.0}       8   \n",
       "3937     mp-9999      0.000000   {'B': 2.0, 'Ni': 1.0, 'Mo': 2.0}       5   \n",
       "\n",
       "                                              structure  formation_energy  \\\n",
       "0     [[1.11758409 0.79025129 1.93571242] As, [3.352...          0.214810   \n",
       "1     [[0.         0.         8.84051822] S, [0.    ...         -7.520110   \n",
       "2     [[1.62101142 2.03208456 2.71687137] P, [2.9549...         -5.429887   \n",
       "3     [[0. 0. 0.] Al, [-2.29850896e-08  2.26918935e+...         -2.684175   \n",
       "4     [[2.39728273 0.77565449 2.62420188] Ga, [0.393...          0.009563   \n",
       "...                                                 ...               ...   \n",
       "3933  [[0.98626121 5.20155909 4.42295358] Si, [2.958...         -6.112147   \n",
       "3934  [[ 0.91698283  2.15720017 -0.00221565] Si, [2....         -3.345796   \n",
       "3935  [[2.19866151 3.62018922 0.74235726] N, [0.    ...         -4.902647   \n",
       "3936  [[0.         0.         6.03352716] C, [0. 0. ...         -4.901116   \n",
       "3937  [[2.09378945 2.70715409 3.46713657] B, [1.7406...         -2.369551   \n",
       "\n",
       "      formation_energy_per_atom  \n",
       "0                      0.107405  \n",
       "1                     -1.253352  \n",
       "2                     -0.339368  \n",
       "3                     -0.536835  \n",
       "4                      0.004781  \n",
       "...                         ...  \n",
       "3933                  -0.764018  \n",
       "3934                  -0.836449  \n",
       "3935                  -0.408554  \n",
       "3936                  -0.612640  \n",
       "3937                  -0.473910  \n",
       "\n",
       "[3938 rows x 7 columns]"
      ]
     },
     "execution_count": 21,
     "metadata": {},
     "output_type": "execute_result"
    }
   ],
   "source": [
    "df"
   ]
  },
  {
   "cell_type": "code",
   "execution_count": 24,
   "id": "ea48b12c",
   "metadata": {},
   "outputs": [
    {
     "data": {
      "application/vnd.jupyter.widget-view+json": {
       "model_id": "1c3c08fe67eb44b383eb88e3ef8b44fc",
       "version_major": 2,
       "version_minor": 0
      },
      "text/plain": [
       "DensityFeatures:   0%|          | 0/3938 [00:00<?, ?it/s]"
      ]
     },
     "metadata": {},
     "output_type": "display_data"
    },
    {
     "data": {
      "text/html": [
       "<div>\n",
       "<style scoped>\n",
       "    .dataframe tbody tr th:only-of-type {\n",
       "        vertical-align: middle;\n",
       "    }\n",
       "\n",
       "    .dataframe tbody tr th {\n",
       "        vertical-align: top;\n",
       "    }\n",
       "\n",
       "    .dataframe thead th {\n",
       "        text-align: right;\n",
       "    }\n",
       "</style>\n",
       "<table border=\"1\" class=\"dataframe\">\n",
       "  <thead>\n",
       "    <tr style=\"text-align: right;\">\n",
       "      <th></th>\n",
       "      <th>material_id</th>\n",
       "      <th>e_above_hull</th>\n",
       "      <th>formula</th>\n",
       "      <th>nsites</th>\n",
       "      <th>structure</th>\n",
       "      <th>formation_energy</th>\n",
       "      <th>formation_energy_per_atom</th>\n",
       "      <th>density</th>\n",
       "      <th>vpa</th>\n",
       "      <th>packing fraction</th>\n",
       "    </tr>\n",
       "  </thead>\n",
       "  <tbody>\n",
       "    <tr>\n",
       "      <th>0</th>\n",
       "      <td>mp-10</td>\n",
       "      <td>0.107405</td>\n",
       "      <td>{'As': 1.0}</td>\n",
       "      <td>2</td>\n",
       "      <td>[[1.11758409 0.79025129 1.93571242] As, [3.352...</td>\n",
       "      <td>0.214810</td>\n",
       "      <td>0.107405</td>\n",
       "      <td>6.064411</td>\n",
       "      <td>20.514810</td>\n",
       "      <td>0.310538</td>\n",
       "    </tr>\n",
       "    <tr>\n",
       "      <th>1</th>\n",
       "      <td>mp-10000</td>\n",
       "      <td>0.000000</td>\n",
       "      <td>{'S': 1.0, 'Hf': 2.0}</td>\n",
       "      <td>6</td>\n",
       "      <td>[[0.         0.         8.84051822] S, [0.    ...</td>\n",
       "      <td>-7.520110</td>\n",
       "      <td>-1.253352</td>\n",
       "      <td>11.035292</td>\n",
       "      <td>19.513890</td>\n",
       "      <td>0.604456</td>\n",
       "    </tr>\n",
       "    <tr>\n",
       "      <th>2</th>\n",
       "      <td>mp-10004</td>\n",
       "      <td>0.000000</td>\n",
       "      <td>{'P': 1.0, 'Mo': 3.0}</td>\n",
       "      <td>16</td>\n",
       "      <td>[[1.62101142 2.03208456 2.71687137] P, [2.9549...</td>\n",
       "      <td>-5.429887</td>\n",
       "      <td>-0.339368</td>\n",
       "      <td>8.991405</td>\n",
       "      <td>14.718765</td>\n",
       "      <td>0.721850</td>\n",
       "    </tr>\n",
       "    <tr>\n",
       "      <th>3</th>\n",
       "      <td>mp-10010</td>\n",
       "      <td>0.000000</td>\n",
       "      <td>{'Al': 1.0, 'Si': 2.0, 'Co': 2.0}</td>\n",
       "      <td>5</td>\n",
       "      <td>[[0. 0. 0.] Al, [-2.29850896e-08  2.26918935e+...</td>\n",
       "      <td>-2.684175</td>\n",
       "      <td>-0.536835</td>\n",
       "      <td>5.387587</td>\n",
       "      <td>12.391439</td>\n",
       "      <td>0.644700</td>\n",
       "    </tr>\n",
       "    <tr>\n",
       "      <th>4</th>\n",
       "      <td>mp-10021</td>\n",
       "      <td>0.004781</td>\n",
       "      <td>{'Ga': 1.0}</td>\n",
       "      <td>2</td>\n",
       "      <td>[[2.39728273 0.77565449 2.62420188] Ga, [0.393...</td>\n",
       "      <td>0.009563</td>\n",
       "      <td>0.004781</td>\n",
       "      <td>6.092338</td>\n",
       "      <td>19.003833</td>\n",
       "      <td>0.484259</td>\n",
       "    </tr>\n",
       "  </tbody>\n",
       "</table>\n",
       "</div>"
      ],
      "text/plain": [
       "  material_id  e_above_hull                            formula  nsites  \\\n",
       "0       mp-10      0.107405                        {'As': 1.0}       2   \n",
       "1    mp-10000      0.000000              {'S': 1.0, 'Hf': 2.0}       6   \n",
       "2    mp-10004      0.000000              {'P': 1.0, 'Mo': 3.0}      16   \n",
       "3    mp-10010      0.000000  {'Al': 1.0, 'Si': 2.0, 'Co': 2.0}       5   \n",
       "4    mp-10021      0.004781                        {'Ga': 1.0}       2   \n",
       "\n",
       "                                           structure  formation_energy  \\\n",
       "0  [[1.11758409 0.79025129 1.93571242] As, [3.352...          0.214810   \n",
       "1  [[0.         0.         8.84051822] S, [0.    ...         -7.520110   \n",
       "2  [[1.62101142 2.03208456 2.71687137] P, [2.9549...         -5.429887   \n",
       "3  [[0. 0. 0.] Al, [-2.29850896e-08  2.26918935e+...         -2.684175   \n",
       "4  [[2.39728273 0.77565449 2.62420188] Ga, [0.393...          0.009563   \n",
       "\n",
       "   formation_energy_per_atom    density        vpa  packing fraction  \n",
       "0                   0.107405   6.064411  20.514810          0.310538  \n",
       "1                  -1.253352  11.035292  19.513890          0.604456  \n",
       "2                  -0.339368   8.991405  14.718765          0.721850  \n",
       "3                  -0.536835   5.387587  12.391439          0.644700  \n",
       "4                   0.004781   6.092338  19.003833          0.484259  "
      ]
     },
     "execution_count": 24,
     "metadata": {},
     "output_type": "execute_result"
    }
   ],
   "source": [
    "df = densityf.featurize_dataframe(df, \"structure\",ignore_errors=True)\n",
    "\n",
    "df.head() "
   ]
  },
  {
   "cell_type": "code",
   "execution_count": null,
   "id": "7a15a6ce",
   "metadata": {},
   "outputs": [],
   "source": []
  }
 ],
 "metadata": {
  "kernelspec": {
   "display_name": "Python 3",
   "language": "python",
   "name": "python3"
  },
  "language_info": {
   "codemirror_mode": {
    "name": "ipython",
    "version": 3
   },
   "file_extension": ".py",
   "mimetype": "text/x-python",
   "name": "python",
   "nbconvert_exporter": "python",
   "pygments_lexer": "ipython3",
   "version": "3.8.8"
  }
 },
 "nbformat": 4,
 "nbformat_minor": 5
}
